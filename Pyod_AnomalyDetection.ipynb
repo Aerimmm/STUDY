{
 "cells": [
  {
   "cell_type": "markdown",
   "id": "e6a4e4e4",
   "metadata": {},
   "source": [
    "# Pyod "
   ]
  },
  {
   "cell_type": "code",
   "execution_count": 63,
   "id": "656522a8",
   "metadata": {},
   "outputs": [],
   "source": [
    "from pyod.utils.example import visualize\n",
    "from pyod.utils.data import evaluate_print\n",
    "from pyod.utils.data import generate_data\n",
    "from pyod.models.knn import KNN"
   ]
  },
  {
   "cell_type": "code",
   "execution_count": 64,
   "id": "15580e25",
   "metadata": {},
   "outputs": [],
   "source": [
    "contamination = 0.1 # percentage of outliers\n",
    "n_train = 200 # training point\n",
    "n_test = 100 # test point"
   ]
  },
  {
   "cell_type": "code",
   "execution_count": 65,
   "id": "a621c216",
   "metadata": {},
   "outputs": [],
   "source": [
    "# Generate sample data\n",
    "X_train, X_test, y_train, y_test = \\\n",
    "    generate_data(n_train=n_train,\n",
    "                  n_test=n_test,\n",
    "                  n_features=2,\n",
    "                  contamination=contamination,\n",
    "                  random_state=42)"
   ]
  },
  {
   "cell_type": "code",
   "execution_count": 66,
   "id": "37f5a920",
   "metadata": {},
   "outputs": [
    {
     "data": {
      "text/plain": [
       "array([[ 6.43365854,  5.5091683 ],\n",
       "       [ 5.04469788,  7.70806466],\n",
       "       [ 5.92453568,  5.25921966],\n",
       "       [ 5.29399075,  5.67126197],\n",
       "       [ 5.61509076,  6.1309285 ],\n",
       "       [ 6.18590347,  6.09410578],\n",
       "       [ 7.16630941,  7.22719133],\n",
       "       [ 4.05470826,  6.48127032],\n",
       "       [ 5.79978164,  5.86930893],\n",
       "       [ 4.82256361,  7.18593123],\n",
       "       [ 5.98049594,  6.28356746],\n",
       "       [ 6.33258429,  6.66392412],\n",
       "       [ 5.76600157,  5.97620246],\n",
       "       [ 6.0758669 ,  6.53009041],\n",
       "       [ 5.88816972,  5.97352684],\n",
       "       [ 5.40257927,  5.37920689],\n",
       "       [ 6.75674297,  7.2607963 ],\n",
       "       [ 5.70636785,  6.29952894],\n",
       "       [ 5.04840502,  5.67376352],\n",
       "       [ 5.64370447,  7.21564822],\n",
       "       [ 6.25760622,  4.88869009],\n",
       "       [ 4.2626848 ,  5.16744774],\n",
       "       [ 6.13773065,  6.25856245],\n",
       "       [ 6.59485505,  4.53524592],\n",
       "       [ 6.45018449,  6.02033788],\n",
       "       [ 6.37739196,  6.52573284],\n",
       "       [ 7.86684582,  6.85415672],\n",
       "       [ 6.07689629,  6.33425195],\n",
       "       [ 5.23991937,  5.16427815],\n",
       "       [ 4.50406714,  4.90993249],\n",
       "       [ 6.50748068,  5.27685129],\n",
       "       [ 6.37966443,  7.0397259 ],\n",
       "       [ 6.16874974,  6.47616877],\n",
       "       [ 5.28513416,  5.9106849 ],\n",
       "       [ 7.17154382,  5.10364277],\n",
       "       [ 6.75767014,  7.3769711 ],\n",
       "       [ 6.36518303,  4.65670841],\n",
       "       [ 6.26067312,  5.93530415],\n",
       "       [ 6.37308642,  6.58708922],\n",
       "       [ 5.37815423,  5.32695638],\n",
       "       [ 5.87994278,  5.22992625],\n",
       "       [ 6.12002151,  5.90954168],\n",
       "       [ 8.10035196,  5.18244595],\n",
       "       [ 5.37628324,  6.33811282],\n",
       "       [ 6.69601983,  7.82416104],\n",
       "       [ 7.29434886,  6.65696254],\n",
       "       [ 6.23372735,  6.71510127],\n",
       "       [ 5.51324196,  5.74784411],\n",
       "       [ 4.81770294,  5.81748427],\n",
       "       [ 6.76774781,  5.83276127],\n",
       "       [ 5.38266749,  5.71306146],\n",
       "       [ 6.57748752,  5.79601671],\n",
       "       [ 6.6778487 ,  4.95416256],\n",
       "       [ 5.30589439,  5.59593025],\n",
       "       [ 4.95525802,  8.34769811],\n",
       "       [ 5.1256809 ,  6.72965957],\n",
       "       [ 5.46878802,  5.59023239],\n",
       "       [ 6.24031789,  4.83677006],\n",
       "       [ 5.47143771,  5.88318164],\n",
       "       [ 5.32526506,  5.34402937],\n",
       "       [ 6.86671152,  6.80152024],\n",
       "       [ 5.64767261,  5.93287473],\n",
       "       [ 6.98657349,  4.86232177],\n",
       "       [ 6.2695876 ,  7.57480541],\n",
       "       [ 7.56719969,  4.45283741],\n",
       "       [ 5.39177221,  6.13451311],\n",
       "       [ 4.94574631,  5.46704453],\n",
       "       [ 5.89050452,  7.11761419],\n",
       "       [ 5.96378943,  6.17301636],\n",
       "       [ 6.40867995,  6.43345559],\n",
       "       [ 6.02241053,  5.04527161],\n",
       "       [ 6.62979801,  6.3441314 ],\n",
       "       [ 5.1252929 ,  5.45583517],\n",
       "       [ 6.70782866,  6.48289882],\n",
       "       [ 5.42553139,  5.78471622],\n",
       "       [ 5.8855827 ,  6.49208703],\n",
       "       [ 6.9960839 ,  6.05235803],\n",
       "       [ 6.93249336,  6.69650782],\n",
       "       [ 6.16401482,  4.84875998],\n",
       "       [ 5.18035641,  6.59117127],\n",
       "       [ 4.63577913,  6.09489046],\n",
       "       [ 6.79793028,  6.12156219],\n",
       "       [ 5.52035984,  5.32478866],\n",
       "       [ 6.65091688,  6.37620684],\n",
       "       [ 5.77231001,  6.84961654],\n",
       "       [ 6.68109995,  7.42648049],\n",
       "       [ 6.45212239,  5.86880383],\n",
       "       [ 5.88595858,  4.45709711],\n",
       "       [ 6.12015706,  5.98746666],\n",
       "       [ 4.93920876,  5.97983203],\n",
       "       [ 7.07123439,  5.41416667],\n",
       "       [ 5.23444277,  6.88122775],\n",
       "       [ 6.5058339 ,  8.44135502],\n",
       "       [ 4.94838362,  6.57453979],\n",
       "       [ 6.25193658,  6.04727937],\n",
       "       [ 6.72617263,  5.97629275],\n",
       "       [ 4.45565673,  5.32419595],\n",
       "       [ 7.08819433,  6.93474343],\n",
       "       [ 5.70242141,  6.40164031],\n",
       "       [ 8.22031026,  5.97512719],\n",
       "       [ 5.9907618 ,  6.15201066],\n",
       "       [ 6.48408922,  5.72173631],\n",
       "       [ 6.48341422,  4.44939332],\n",
       "       [ 6.26829247,  6.04037945],\n",
       "       [ 5.82656871,  5.62096183],\n",
       "       [ 5.51399854,  5.35118195],\n",
       "       [ 4.15124093,  5.78624384],\n",
       "       [ 6.87437013,  5.73249529],\n",
       "       [ 6.50652956,  5.13849337],\n",
       "       [ 4.95865007,  5.40123516],\n",
       "       [ 5.18211977,  5.05647505],\n",
       "       [ 6.35871413,  7.41876863],\n",
       "       [ 5.46808399,  4.65070221],\n",
       "       [ 6.52382411,  4.85480737],\n",
       "       [ 5.0562948 ,  6.39478031],\n",
       "       [ 5.86815848,  5.45194826],\n",
       "       [ 6.05451306,  5.67347886],\n",
       "       [ 7.50699548,  5.46101667],\n",
       "       [ 5.27151424,  5.63709148],\n",
       "       [ 5.67080487,  6.47505142],\n",
       "       [ 4.41166301,  6.33977394],\n",
       "       [ 5.56830159,  6.61954974],\n",
       "       [ 5.96200209,  6.41368113],\n",
       "       [ 5.68784023,  6.34934185],\n",
       "       [ 7.32692793,  5.41042717],\n",
       "       [ 5.9145078 ,  5.61222081],\n",
       "       [ 7.27047146,  5.65391292],\n",
       "       [ 5.41564647,  5.5387993 ],\n",
       "       [ 5.89175955,  5.36714564],\n",
       "       [ 5.7061453 ,  6.12537524],\n",
       "       [ 5.90790499,  6.66332334],\n",
       "       [ 5.7453006 ,  5.83680954],\n",
       "       [ 6.2161834 ,  7.79032977],\n",
       "       [ 5.37185362,  7.53417316],\n",
       "       [ 5.05604952,  6.18261376],\n",
       "       [ 5.72932484,  5.34978638],\n",
       "       [ 6.55755623,  6.47844335],\n",
       "       [ 5.61618393,  4.33010928],\n",
       "       [ 5.66499409,  6.11102126],\n",
       "       [ 6.00144643,  6.60289088],\n",
       "       [ 7.54208336,  6.33008297],\n",
       "       [ 6.45281968,  6.1181813 ],\n",
       "       [ 6.93506794,  6.42381435],\n",
       "       [ 6.59744398,  7.44272083],\n",
       "       [ 6.18102974,  5.78389595],\n",
       "       [ 6.35593494,  6.90620209],\n",
       "       [ 6.39990939,  6.84590486],\n",
       "       [ 5.46646382,  5.30766551],\n",
       "       [ 5.56530907,  4.98920813],\n",
       "       [ 6.08796866,  5.65703627],\n",
       "       [ 6.98114644,  4.97019307],\n",
       "       [ 7.24011768,  5.21745055],\n",
       "       [ 5.01245767,  5.34230512],\n",
       "       [ 7.55622975,  5.96803038],\n",
       "       [ 6.42224758,  5.85333843],\n",
       "       [ 5.92815842,  5.59653891],\n",
       "       [ 6.04047049,  6.39446468],\n",
       "       [ 7.33852079,  4.50503049],\n",
       "       [ 7.28469844,  6.42107114],\n",
       "       [ 5.70669337,  5.56316698],\n",
       "       [ 6.83237619,  6.18262023],\n",
       "       [ 4.77651712,  6.28956362],\n",
       "       [ 6.91268549,  6.68418394],\n",
       "       [ 5.5000539 ,  4.92969149],\n",
       "       [ 5.74002241,  8.59519302],\n",
       "       [ 4.76779692,  5.32788253],\n",
       "       [ 6.31267026,  5.90068576],\n",
       "       [ 5.84032799,  7.61480203],\n",
       "       [ 5.31948852,  5.98861065],\n",
       "       [ 6.16102986,  5.3581879 ],\n",
       "       [ 4.85101751,  6.21479241],\n",
       "       [ 7.44647706,  6.32267225],\n",
       "       [ 6.07183676,  6.06598108],\n",
       "       [ 5.79390075,  6.94387802],\n",
       "       [ 5.59688806,  4.91790525],\n",
       "       [ 4.738563  ,  6.06301309],\n",
       "       [ 6.84594784,  6.1894047 ],\n",
       "       [ 5.74688475,  6.36562664],\n",
       "       [ 6.14851235,  6.65892242],\n",
       "       [ 7.05794387,  5.23883285],\n",
       "       [-0.21999614, -1.46414892],\n",
       "       [ 2.46101237, -3.01531015],\n",
       "       [-2.03696965, -0.78657787],\n",
       "       [-2.95581391, -1.13757496],\n",
       "       [ 0.8576763 ,  2.89168633],\n",
       "       [ 3.20633824,  3.87348422],\n",
       "       [ 2.93053988,  2.17247313],\n",
       "       [-3.14992234, -1.19732529],\n",
       "       [-0.26742131, -5.00530414],\n",
       "       [ 0.34044146, -0.76397002],\n",
       "       [ 3.62531099,  5.73480803],\n",
       "       [ 0.67206046, -2.12776334],\n",
       "       [-5.4791906 ,  5.09571996],\n",
       "       [ 5.02938858, -2.96411798],\n",
       "       [ 2.34493348, -5.09478543],\n",
       "       [-4.00541482, -3.39829072],\n",
       "       [-2.46607264,  5.9499765 ],\n",
       "       [ 2.36310067, -1.38957802],\n",
       "       [ 2.84520847,  4.9830521 ],\n",
       "       [ 5.50442889, -5.30563323]])"
      ]
     },
     "execution_count": 66,
     "metadata": {},
     "output_type": "execute_result"
    }
   ],
   "source": [
    "X_train"
   ]
  },
  {
   "cell_type": "code",
   "execution_count": 68,
   "id": "3586caba",
   "metadata": {},
   "outputs": [
    {
     "data": {
      "text/plain": [
       "array([[ 5.30170184,  5.81269836],\n",
       "       [ 5.21264227,  5.60827597],\n",
       "       [ 5.03567292,  7.26741076],\n",
       "       [ 5.39633486,  5.30208702],\n",
       "       [ 4.94276882,  5.38493049],\n",
       "       [ 5.60530122,  5.96053793],\n",
       "       [ 5.4853278 ,  4.72344392],\n",
       "       [ 4.79206146,  6.5420578 ],\n",
       "       [ 5.90207069,  6.51752025],\n",
       "       [ 6.62230299,  6.12049276],\n",
       "       [ 5.01764176,  6.15120212],\n",
       "       [ 7.11623849,  5.64315692],\n",
       "       [ 6.2716553 ,  5.98901149],\n",
       "       [ 7.09453029,  5.45943645],\n",
       "       [ 6.91999125,  5.7009129 ],\n",
       "       [ 5.44638876,  6.08761813],\n",
       "       [ 6.27312411,  7.52452703],\n",
       "       [ 6.25484496,  6.15414756],\n",
       "       [ 7.27299261,  6.47936636],\n",
       "       [ 5.48616285,  7.08144467],\n",
       "       [ 5.41012224,  5.48219739],\n",
       "       [ 5.32326827,  5.25330434],\n",
       "       [ 6.26572002,  5.79431194],\n",
       "       [ 3.22601054,  5.78604868],\n",
       "       [ 5.58694271,  6.71206661],\n",
       "       [ 5.55077704,  8.02516724],\n",
       "       [ 7.11400292,  5.6890297 ],\n",
       "       [ 6.91687382,  6.41887892],\n",
       "       [ 6.18619901,  6.64014968],\n",
       "       [ 6.04312385,  6.19169038],\n",
       "       [ 6.65665903,  7.63691929],\n",
       "       [ 6.20033879,  5.63807765],\n",
       "       [ 4.38160116,  7.56422383],\n",
       "       [ 5.79005342,  6.4265334 ],\n",
       "       [ 7.52004295,  6.18152263],\n",
       "       [ 5.8447421 ,  7.13225023],\n",
       "       [ 6.36745762,  6.46744441],\n",
       "       [ 4.78521373,  6.96176922],\n",
       "       [ 6.29954763,  4.90609851],\n",
       "       [ 6.38688341,  4.35504711],\n",
       "       [ 7.8678259 ,  5.12122343],\n",
       "       [ 7.28547402,  5.351633  ],\n",
       "       [ 6.44680409,  5.27253851],\n",
       "       [ 6.79524225,  5.81232319],\n",
       "       [ 6.3730743 ,  6.01201449],\n",
       "       [ 4.91082363,  6.40204689],\n",
       "       [ 5.59864647,  6.83368189],\n",
       "       [ 5.81189166,  5.93877748],\n",
       "       [ 7.3422062 ,  7.89945772],\n",
       "       [ 6.62689587,  5.77099343],\n",
       "       [ 5.70119149,  5.34706991],\n",
       "       [ 5.50134567,  5.78178447],\n",
       "       [ 7.56657618,  5.84270724],\n",
       "       [ 5.02217002,  6.03322984],\n",
       "       [ 6.14206508,  6.02842081],\n",
       "       [ 6.63778813,  6.05503486],\n",
       "       [ 6.61309322,  5.37764263],\n",
       "       [ 7.42020827,  6.20136348],\n",
       "       [ 6.31919183,  5.37431804],\n",
       "       [ 6.37630231,  6.51925237],\n",
       "       [ 5.06705939,  4.67680314],\n",
       "       [ 6.23421128,  5.61018506],\n",
       "       [ 6.20729854,  4.97034324],\n",
       "       [ 4.75542945,  6.16484373],\n",
       "       [ 5.72103241,  4.3166264 ],\n",
       "       [ 7.07117904,  4.95708728],\n",
       "       [ 8.05233727,  5.50231983],\n",
       "       [ 6.32026181,  7.31351263],\n",
       "       [ 7.17991215,  7.58402916],\n",
       "       [ 4.78528123,  5.09409844],\n",
       "       [ 6.18024254,  6.66973468],\n",
       "       [ 5.99104563,  4.69362934],\n",
       "       [ 6.39604243,  5.84507617],\n",
       "       [ 5.83551556,  4.18323662],\n",
       "       [ 6.63602793,  6.11580648],\n",
       "       [ 7.4317209 ,  5.94057695],\n",
       "       [ 6.4516806 ,  6.66341075],\n",
       "       [ 4.60736109,  8.08693069],\n",
       "       [ 5.65642455,  6.39443813],\n",
       "       [ 6.51089169,  5.35017463],\n",
       "       [ 7.47304621,  6.21211076],\n",
       "       [ 5.8297464 ,  6.11046605],\n",
       "       [ 6.60952398,  6.008612  ],\n",
       "       [ 6.70337701,  4.65624204],\n",
       "       [ 5.40346178,  4.29421481],\n",
       "       [ 7.59269985,  7.58231901],\n",
       "       [ 6.49975325,  5.19239356],\n",
       "       [ 7.90603066,  5.51795347],\n",
       "       [ 5.82995815,  6.12723475],\n",
       "       [ 6.36010337,  6.51346025],\n",
       "       [-1.09778048,  5.19525681],\n",
       "       [ 5.89115372, -3.53997828],\n",
       "       [-1.44925698,  5.11739308],\n",
       "       [ 2.65915861, -5.42286427],\n",
       "       [ 3.37817378,  3.93529065],\n",
       "       [ 3.0060231 ,  3.59444557],\n",
       "       [ 3.90159212, -3.76314016],\n",
       "       [-3.17169905,  1.60510276],\n",
       "       [ 4.89439357, -2.20564101],\n",
       "       [ 1.05968011,  2.19578476]])"
      ]
     },
     "execution_count": 68,
     "metadata": {},
     "output_type": "execute_result"
    }
   ],
   "source": [
    "X_test"
   ]
  },
  {
   "cell_type": "code",
   "execution_count": 76,
   "id": "424e3f00",
   "metadata": {},
   "outputs": [
    {
     "data": {
      "text/plain": [
       "array([0., 0., 0., 0., 0., 0., 0., 0., 0., 0., 0., 0., 0., 0., 0., 0., 0.,\n",
       "       0., 0., 0., 0., 0., 0., 0., 0., 0., 0., 0., 0., 0., 0., 0., 0., 0.,\n",
       "       0., 0., 0., 0., 0., 0., 0., 0., 0., 0., 0., 0., 0., 0., 0., 0., 0.,\n",
       "       0., 0., 0., 0., 0., 0., 0., 0., 0., 0., 0., 0., 0., 0., 0., 0., 0.,\n",
       "       0., 0., 0., 0., 0., 0., 0., 0., 0., 0., 0., 0., 0., 0., 0., 0., 0.,\n",
       "       0., 0., 0., 0., 0., 0., 0., 0., 0., 0., 0., 0., 0., 0., 0., 0., 0.,\n",
       "       0., 0., 0., 0., 0., 0., 0., 0., 0., 0., 0., 0., 0., 0., 0., 0., 0.,\n",
       "       0., 0., 0., 0., 0., 0., 0., 0., 0., 0., 0., 0., 0., 0., 0., 0., 0.,\n",
       "       0., 0., 0., 0., 0., 0., 0., 0., 0., 0., 0., 0., 0., 0., 0., 0., 0.,\n",
       "       0., 0., 0., 0., 0., 0., 0., 0., 0., 0., 0., 0., 0., 0., 0., 0., 0.,\n",
       "       0., 0., 0., 0., 0., 0., 0., 0., 0., 0., 1., 1., 1., 1., 1., 1., 1.,\n",
       "       1., 1., 1., 1., 1., 1., 1., 1., 1., 1., 1., 1., 1.])"
      ]
     },
     "execution_count": 76,
     "metadata": {},
     "output_type": "execute_result"
    }
   ],
   "source": [
    "y_train"
   ]
  },
  {
   "cell_type": "code",
   "execution_count": 77,
   "id": "0c7990b9",
   "metadata": {},
   "outputs": [
    {
     "data": {
      "text/plain": [
       "array([0., 0., 0., 0., 0., 0., 0., 0., 0., 0., 0., 0., 0., 0., 0., 0., 0.,\n",
       "       0., 0., 0., 0., 0., 0., 0., 0., 0., 0., 0., 0., 0., 0., 0., 0., 0.,\n",
       "       0., 0., 0., 0., 0., 0., 0., 0., 0., 0., 0., 0., 0., 0., 0., 0., 0.,\n",
       "       0., 0., 0., 0., 0., 0., 0., 0., 0., 0., 0., 0., 0., 0., 0., 0., 0.,\n",
       "       0., 0., 0., 0., 0., 0., 0., 0., 0., 0., 0., 0., 0., 0., 0., 0., 0.,\n",
       "       0., 0., 0., 0., 0., 1., 1., 1., 1., 1., 1., 1., 1., 1., 1.])"
      ]
     },
     "execution_count": 77,
     "metadata": {},
     "output_type": "execute_result"
    }
   ],
   "source": [
    "y_test"
   ]
  },
  {
   "cell_type": "markdown",
   "id": "262e3f6a",
   "metadata": {},
   "source": [
    "# Modeling"
   ]
  },
  {
   "cell_type": "code",
   "execution_count": 69,
   "id": "5d9bfd78",
   "metadata": {},
   "outputs": [
    {
     "data": {
      "text/plain": [
       "KNN(algorithm='auto', contamination=0.1, leaf_size=30, method='largest',\n",
       "  metric='minkowski', metric_params=None, n_jobs=1, n_neighbors=5, p=2,\n",
       "  radius=1.0)"
      ]
     },
     "execution_count": 69,
     "metadata": {},
     "output_type": "execute_result"
    }
   ],
   "source": [
    "clf_name = 'KNN'\n",
    "clf = KNN()\n",
    "clf.fit(X_train)"
   ]
  },
  {
   "cell_type": "code",
   "execution_count": 70,
   "id": "cce4f0ea",
   "metadata": {},
   "outputs": [
    {
     "data": {
      "text/plain": [
       "array([0, 0, 0, 0, 0, 0, 0, 0, 0, 0, 0, 0, 0, 0, 0, 0, 0, 0, 0, 0, 0, 0,\n",
       "       0, 0, 0, 0, 0, 0, 0, 0, 0, 0, 0, 0, 0, 0, 0, 0, 0, 0, 0, 0, 0, 0,\n",
       "       0, 0, 0, 0, 0, 0, 0, 0, 0, 0, 1, 0, 0, 0, 0, 0, 0, 0, 0, 0, 0, 0,\n",
       "       0, 0, 0, 0, 0, 0, 0, 0, 0, 0, 0, 0, 0, 0, 0, 0, 0, 0, 0, 0, 0, 0,\n",
       "       0, 0, 0, 0, 0, 0, 0, 0, 0, 0, 0, 0, 0, 0, 0, 0, 0, 0, 0, 0, 0, 0,\n",
       "       0, 0, 0, 0, 0, 0, 0, 0, 0, 0, 0, 0, 0, 0, 0, 0, 0, 0, 0, 0, 0, 0,\n",
       "       0, 0, 0, 0, 0, 0, 0, 0, 0, 0, 0, 0, 0, 0, 0, 0, 0, 0, 0, 0, 0, 0,\n",
       "       0, 0, 0, 0, 0, 0, 0, 0, 0, 0, 0, 0, 0, 0, 0, 0, 0, 0, 0, 0, 0, 0,\n",
       "       0, 0, 0, 0, 1, 1, 1, 1, 1, 1, 1, 1, 1, 1, 0, 1, 1, 1, 1, 1, 1, 1,\n",
       "       1, 1])"
      ]
     },
     "execution_count": 70,
     "metadata": {},
     "output_type": "execute_result"
    }
   ],
   "source": [
    "# 예측된 결과\n",
    "clf.labels_"
   ]
  },
  {
   "cell_type": "markdown",
   "id": "2f4dd0a8",
   "metadata": {},
   "source": [
    "# Evaluation"
   ]
  },
  {
   "cell_type": "code",
   "execution_count": 72,
   "id": "a769fa7e",
   "metadata": {},
   "outputs": [],
   "source": [
    "y_train_pred = clf.labels_\n",
    "y_train_scores = clf.decision_scores_"
   ]
  },
  {
   "cell_type": "code",
   "execution_count": 73,
   "id": "f571a05f",
   "metadata": {},
   "outputs": [],
   "source": [
    "y_test_pred = clf.predict(X_test)\n",
    "y_test_scores = clf.decision_function(X_test)"
   ]
  },
  {
   "cell_type": "code",
   "execution_count": 78,
   "id": "2a5b62a0",
   "metadata": {},
   "outputs": [
    {
     "name": "stdout",
     "output_type": "stream",
     "text": [
      "On Training Data:\n",
      "KNN ROC:0.9992, precision @ rank n:0.95\n",
      "\n",
      "On Test Data:\n",
      "KNN ROC:1.0, precision @ rank n:1.0\n"
     ]
    }
   ],
   "source": [
    "print(\"On Training Data:\")\n",
    "evaluate_print(clf_name, y_train, y_train_scores)\n",
    "\n",
    "print(\"\\nOn Test Data:\")\n",
    "evaluate_print(clf_name, y_test, y_test_scores)"
   ]
  },
  {
   "cell_type": "code",
   "execution_count": 79,
   "id": "3fbdf3e4",
   "metadata": {},
   "outputs": [
    {
     "data": {
      "image/png": "[encoded data removed]",
      "text/plain": [
       "<Figure size 1200x1000 with 4 Axes>"
      ]
     },
     "metadata": {},
     "output_type": "display_data"
    }
   ],
   "source": [
    "# visualize the results\n",
    "visualize(clf_name, X_train, y_train, X_test, y_test, y_train_pred,\n",
    "          y_test_pred, show_figure=True, save_figure=True)"
   ]
  },
  {
   "cell_type": "code",
   "execution_count": null,
   "id": "4bb31205",
   "metadata": {},
   "outputs": [],
   "source": []
  }
 ],
 "metadata": {
  "kernelspec": {
   "display_name": "Python 3",
   "language": "python",
   "name": "python3"
  },
  "language_info": {
   "codemirror_mode": {
    "name": "ipython",
    "version": 3
   },
   "file_extension": ".py",
   "mimetype": "text/x-python",
   "name": "python",
   "nbconvert_exporter": "python",
   "pygments_lexer": "ipython3",
   "version": "3.9.12"
  }
 },
 "nbformat": 4,
 "nbformat_minor": 5
}
