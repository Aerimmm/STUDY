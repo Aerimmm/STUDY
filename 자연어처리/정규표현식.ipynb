{
 "cells": [
  {
   "cell_type": "markdown",
   "id": "3145e7df",
   "metadata": {},
   "source": [
    "# Python 정규 표현식 (Regular Expression)"
   ]
  },
  {
   "cell_type": "markdown",
   "id": "73fb4d55",
   "metadata": {},
   "source": [
    "### 정규표현식 실습"
   ]
  },
  {
   "cell_type": "code",
   "execution_count": 1,
   "id": "1dbddbd6",
   "metadata": {},
   "outputs": [],
   "source": [
    "import re"
   ]
  },
  {
   "cell_type": "markdown",
   "id": "2084348a",
   "metadata": {},
   "source": [
    "### 1) . 기호"
   ]
  },
  {
   "cell_type": "code",
   "execution_count": 2,
   "id": "559da909",
   "metadata": {},
   "outputs": [],
   "source": [
    "r = re.compile(\"a.c\")\n",
    "r.search(\"kkk\")"
   ]
  },
  {
   "cell_type": "code",
   "execution_count": 3,
   "id": "5afe23e6",
   "metadata": {},
   "outputs": [
    {
     "data": {
      "text/plain": [
       "<re.Match object; span=(0, 3), match='abc'>"
      ]
     },
     "execution_count": 3,
     "metadata": {},
     "output_type": "execute_result"
    }
   ],
   "source": [
    "r.search(\"abc\")"
   ]
  },
  {
   "cell_type": "markdown",
   "id": "1fed9fea",
   "metadata": {},
   "source": [
    ". 은 어떤 문자로도 인식 가능하기 때문에 abc라는 문자열은 a.c라는 정규표현식 패턴으로 매치된다."
   ]
  },
  {
   "cell_type": "markdown",
   "id": "cad5fd04",
   "metadata": {},
   "source": [
    "### 2) ? 기호"
   ]
  },
  {
   "cell_type": "code",
   "execution_count": 6,
   "id": "5fd843ef",
   "metadata": {},
   "outputs": [],
   "source": [
    "r = re.compile(\"ab?c\")\n",
    "r.search(\"abbc\")  # 아무런 결과 X"
   ]
  },
  {
   "cell_type": "code",
   "execution_count": 5,
   "id": "8e088552",
   "metadata": {},
   "outputs": [
    {
     "data": {
      "text/plain": [
       "<re.Match object; span=(0, 3), match='abc'>"
      ]
     },
     "execution_count": 5,
     "metadata": {},
     "output_type": "execute_result"
    }
   ],
   "source": [
    "r.search(\"abc\")"
   ]
  },
  {
   "cell_type": "markdown",
   "id": "71eace6c",
   "metadata": {},
   "source": [
    "### 3) * 기호"
   ]
  },
  {
   "cell_type": "code",
   "execution_count": 7,
   "id": "8d2e08a5",
   "metadata": {},
   "outputs": [],
   "source": [
    "r = re.compile(\"ab*c\")\n",
    "r.search(\"a\") # 아무런 결과 X"
   ]
  },
  {
   "cell_type": "code",
   "execution_count": 8,
   "id": "dd7a5109",
   "metadata": {},
   "outputs": [
    {
     "data": {
      "text/plain": [
       "<re.Match object; span=(0, 2), match='ac'>"
      ]
     },
     "execution_count": 8,
     "metadata": {},
     "output_type": "execute_result"
    }
   ],
   "source": [
    "r.search(\"ac\")"
   ]
  },
  {
   "cell_type": "code",
   "execution_count": 9,
   "id": "278f65fa",
   "metadata": {},
   "outputs": [
    {
     "data": {
      "text/plain": [
       "<re.Match object; span=(0, 3), match='abc'>"
      ]
     },
     "execution_count": 9,
     "metadata": {},
     "output_type": "execute_result"
    }
   ],
   "source": [
    "r.search(\"abc\")"
   ]
  },
  {
   "cell_type": "code",
   "execution_count": 10,
   "id": "04b29390",
   "metadata": {},
   "outputs": [
    {
     "data": {
      "text/plain": [
       "<re.Match object; span=(0, 11), match='abbbbbbbbbc'>"
      ]
     },
     "execution_count": 10,
     "metadata": {},
     "output_type": "execute_result"
    }
   ],
   "source": [
    "r.search(\"abbbbbbbbbc\")"
   ]
  },
  {
   "cell_type": "markdown",
   "id": "a68b2d88",
   "metadata": {},
   "source": [
    "### 4)  + 기호"
   ]
  },
  {
   "cell_type": "code",
   "execution_count": 12,
   "id": "207f5181",
   "metadata": {},
   "outputs": [],
   "source": [
    "r  = re.compile(\"ab+c\")\n",
    "r.search(\"ac\")"
   ]
  },
  {
   "cell_type": "code",
   "execution_count": 14,
   "id": "df921fb5",
   "metadata": {},
   "outputs": [
    {
     "data": {
      "text/plain": [
       "<re.Match object; span=(0, 3), match='abc'>"
      ]
     },
     "execution_count": 14,
     "metadata": {},
     "output_type": "execute_result"
    }
   ],
   "source": [
    "r.search(\"abc\")"
   ]
  },
  {
   "cell_type": "code",
   "execution_count": 15,
   "id": "992f8a3b",
   "metadata": {},
   "outputs": [
    {
     "data": {
      "text/plain": [
       "<re.Match object; span=(0, 9), match='abbbbbbbc'>"
      ]
     },
     "execution_count": 15,
     "metadata": {},
     "output_type": "execute_result"
    }
   ],
   "source": [
    "r.search(\"abbbbbbbc\")"
   ]
  },
  {
   "cell_type": "markdown",
   "id": "54d077f9",
   "metadata": {},
   "source": [
    "### 5) ^기호"
   ]
  },
  {
   "cell_type": "code",
   "execution_count": 17,
   "id": "d622e75b",
   "metadata": {},
   "outputs": [],
   "source": [
    "r = re.compile(\"^ab\") #ab 로 시작되는 경우를 match\n",
    "r.search(\"bbc\")\n",
    "r.search(\"zab\")"
   ]
  },
  {
   "cell_type": "code",
   "execution_count": 18,
   "id": "b55a2a67",
   "metadata": {},
   "outputs": [
    {
     "data": {
      "text/plain": [
       "<re.Match object; span=(0, 2), match='ab'>"
      ]
     },
     "execution_count": 18,
     "metadata": {},
     "output_type": "execute_result"
    }
   ],
   "source": [
    "r.search(\"abz\")"
   ]
  },
  {
   "cell_type": "markdown",
   "id": "872524b7",
   "metadata": {},
   "source": [
    "### 6) {숫자} 기호"
   ]
  },
  {
   "cell_type": "code",
   "execution_count": 19,
   "id": "9fca2b50",
   "metadata": {},
   "outputs": [],
   "source": [
    "r = re.compile(\"ab{2}c\") # a와 c사이에 b가 존재하면서 b의 개수가 2개인 문자열에 대해 매칭\n",
    "\n",
    "# 아무런 결과도 출력 X\n",
    "r.search(\"ac\")\n",
    "r.search(\"abc\")\n",
    "r.search(\"abbbbc\")"
   ]
  },
  {
   "cell_type": "code",
   "execution_count": 20,
   "id": "53729955",
   "metadata": {},
   "outputs": [
    {
     "data": {
      "text/plain": [
       "<re.Match object; span=(0, 4), match='abbc'>"
      ]
     },
     "execution_count": 20,
     "metadata": {},
     "output_type": "execute_result"
    }
   ],
   "source": [
    "r.search(\"abbc\")"
   ]
  },
  {
   "cell_type": "markdown",
   "id": "616bbfe2",
   "metadata": {},
   "source": [
    "### 7) {숫자1, 숫자2} 기호"
   ]
  },
  {
   "cell_type": "code",
   "execution_count": 22,
   "id": "e11f7b56",
   "metadata": {},
   "outputs": [],
   "source": [
    "r = re.compile(\"ab{2,8}c\") # a와 c 사이에 b가 존재하면서 b는 2개 이상 8개 이하인 문자열에 대해서 매치\n",
    "\n",
    "r.search(\"ac\")\n",
    "r.search(\"abc\")\n",
    "r.search(\"abbbbbbbbbbbbc\")"
   ]
  },
  {
   "cell_type": "code",
   "execution_count": 23,
   "id": "edd12852",
   "metadata": {},
   "outputs": [
    {
     "data": {
      "text/plain": [
       "<re.Match object; span=(0, 5), match='abbbc'>"
      ]
     },
     "execution_count": 23,
     "metadata": {},
     "output_type": "execute_result"
    }
   ],
   "source": [
    "r.search(\"abbbc\")"
   ]
  },
  {
   "cell_type": "code",
   "execution_count": 24,
   "id": "8f767d70",
   "metadata": {},
   "outputs": [
    {
     "data": {
      "text/plain": [
       "<re.Match object; span=(0, 8), match='abbbbbbc'>"
      ]
     },
     "execution_count": 24,
     "metadata": {},
     "output_type": "execute_result"
    }
   ],
   "source": [
    "r.search(\"abbbbbbc\")"
   ]
  },
  {
   "cell_type": "markdown",
   "id": "574945a3",
   "metadata": {},
   "source": [
    "### 8) {숫자,} 기호"
   ]
  },
  {
   "cell_type": "code",
   "execution_count": 25,
   "id": "727c30b8",
   "metadata": {},
   "outputs": [],
   "source": [
    "r = re.compile(\"a{2,}bc\") # bc앞에 a가 2개 이상 있어야한다.\n",
    "\n",
    "r.search(\"bc\")\n",
    "r.search(\"aa\")"
   ]
  },
  {
   "cell_type": "code",
   "execution_count": 26,
   "id": "a30b41cf",
   "metadata": {},
   "outputs": [
    {
     "data": {
      "text/plain": [
       "<re.Match object; span=(0, 4), match='aabc'>"
      ]
     },
     "execution_count": 26,
     "metadata": {},
     "output_type": "execute_result"
    }
   ],
   "source": [
    "r.search(\"aabc\")"
   ]
  },
  {
   "cell_type": "code",
   "execution_count": 27,
   "id": "19175f43",
   "metadata": {},
   "outputs": [
    {
     "data": {
      "text/plain": [
       "<re.Match object; span=(0, 6), match='aaaabc'>"
      ]
     },
     "execution_count": 27,
     "metadata": {},
     "output_type": "execute_result"
    }
   ],
   "source": [
    "r.search(\"aaaabc\")"
   ]
  },
  {
   "cell_type": "markdown",
   "id": "33f7fa89",
   "metadata": {},
   "source": [
    "### 9) [  ] 기호"
   ]
  },
  {
   "cell_type": "code",
   "execution_count": 30,
   "id": "874ea53b",
   "metadata": {},
   "outputs": [],
   "source": [
    "r = re.compile(\"[abc]\") # [abc] 는 [a-c]와 같다.\n",
    "# abc문자들 중 하나만 있으면 1개의 문자와 매칭\n",
    "r.search(\"zzz\")"
   ]
  },
  {
   "cell_type": "code",
   "execution_count": 31,
   "id": "317c0289",
   "metadata": {},
   "outputs": [
    {
     "data": {
      "text/plain": [
       "<re.Match object; span=(0, 1), match='a'>"
      ]
     },
     "execution_count": 31,
     "metadata": {},
     "output_type": "execute_result"
    }
   ],
   "source": [
    "r.search(\"a\")"
   ]
  },
  {
   "cell_type": "code",
   "execution_count": 32,
   "id": "0acd30a9",
   "metadata": {},
   "outputs": [
    {
     "data": {
      "text/plain": [
       "<re.Match object; span=(0, 1), match='a'>"
      ]
     },
     "execution_count": 32,
     "metadata": {},
     "output_type": "execute_result"
    }
   ],
   "source": [
    "r.search(\"aaaaaaa\")"
   ]
  },
  {
   "cell_type": "code",
   "execution_count": 33,
   "id": "2fa141b8",
   "metadata": {},
   "outputs": [
    {
     "data": {
      "text/plain": [
       "<re.Match object; span=(0, 1), match='b'>"
      ]
     },
     "execution_count": 33,
     "metadata": {},
     "output_type": "execute_result"
    }
   ],
   "source": [
    "r.search(\"bac\")"
   ]
  },
  {
   "cell_type": "code",
   "execution_count": 34,
   "id": "3da6e0a3",
   "metadata": {},
   "outputs": [],
   "source": [
    "r = re.compile(\"[a-z]\")\n",
    "r.search(\"AA\")\n",
    "r.search(\"111\")"
   ]
  },
  {
   "cell_type": "code",
   "execution_count": 35,
   "id": "31ea5fc8",
   "metadata": {},
   "outputs": [
    {
     "data": {
      "text/plain": [
       "<re.Match object; span=(0, 1), match='a'>"
      ]
     },
     "execution_count": 35,
     "metadata": {},
     "output_type": "execute_result"
    }
   ],
   "source": [
    "r.search(\"abcccc\")"
   ]
  },
  {
   "cell_type": "code",
   "execution_count": 36,
   "id": "7a65c264",
   "metadata": {},
   "outputs": [
    {
     "data": {
      "text/plain": [
       "<re.Match object; span=(1, 2), match='b'>"
      ]
     },
     "execution_count": 36,
     "metadata": {},
     "output_type": "execute_result"
    }
   ],
   "source": [
    "r.search(\"Abcccc\")"
   ]
  },
  {
   "cell_type": "markdown",
   "id": "38ee17c6",
   "metadata": {},
   "source": [
    "### 10) [^문자] 기호"
   ]
  },
  {
   "cell_type": "code",
   "execution_count": null,
   "id": "a9d3a723",
   "metadata": {},
   "outputs": [],
   "source": []
  }
 ],
 "metadata": {
  "kernelspec": {
   "display_name": "Python 3 (ipykernel)",
   "language": "python",
   "name": "python3"
  },
  "language_info": {
   "codemirror_mode": {
    "name": "ipython",
    "version": 3
   },
   "file_extension": ".py",
   "mimetype": "text/x-python",
   "name": "python",
   "nbconvert_exporter": "python",
   "pygments_lexer": "ipython3",
   "version": "3.9.12"
  }
 },
 "nbformat": 4,
 "nbformat_minor": 5
}
