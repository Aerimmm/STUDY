{
  "nbformat": 4,
  "nbformat_minor": 0,
  "metadata": {
    "colab": {
      "provenance": [],
      "authorship_tag": "ABX9TyPVXnlX+duG7BMt53mH+bjB",
      "include_colab_link": true
    },
    "kernelspec": {
      "name": "python3",
      "display_name": "Python 3"
    },
    "language_info": {
      "name": "python"
    }
  },
  "cells": [
    {
      "cell_type": "markdown",
      "metadata": {
        "id": "view-in-github",
        "colab_type": "text"
      },
      "source": [
        "<a href=\"https://colab.research.google.com/github/Aerimmm/STUDY/blob/main/fra_eng_Trans.ipynb\" target=\"_parent\"><img src=\"https://colab.research.google.com/assets/colab-badge.svg\" alt=\"Open In Colab\"/></a>"
      ]
    },
    {
      "cell_type": "code",
      "execution_count": 30,
      "metadata": {
        "id": "rGQt1udfY10O"
      },
      "outputs": [],
      "source": [
        "import os\n",
        "import shutil\n",
        "import zipfile\n",
        "\n",
        "import pandas as pd\n",
        "import tensorflow as tf\n",
        "import urllib3\n",
        "from tensorflow.keras.preprocessing.sequence import pad_sequences\n",
        "from tensorflow.keras.utils import to_categorical"
      ]
    },
    {
      "cell_type": "code",
      "source": [
        "http = urllib3.PoolManager()\n",
        "url = 'http://www.manythings.org/anki/fra-eng.zip'\n",
        "filename = 'fra-eng.zip'\n",
        "path = os.getcwd()\n",
        "zipfilename = os.path.join(path , filename)\n",
        "with http.request(\"GET\", url, preload_content = False) as r, open(zipfilename, 'wb') as out_file :\n",
        "  shutil.copyfileobj(r, out_file)\n",
        "\n",
        "with zipfile.ZipFile(zipfilename, 'r') as zip_ref :\n",
        "  zip_ref.extractall(path)"
      ],
      "metadata": {
        "id": "hffOmYRyZMiZ"
      },
      "execution_count": 31,
      "outputs": []
    },
    {
      "cell_type": "code",
      "source": [
        "lines = pd.read_csv('fra.txt', names = ['src','tar','lic'], sep = '\\t')\n",
        "del lines['lic']\n",
        "print(\"전체 샘플의 개수 : \", len(lines))"
      ],
      "metadata": {
        "colab": {
          "base_uri": "https://localhost:8080/"
        },
        "id": "sLimdfBQZpMM",
        "outputId": "44930c2a-8721-493d-fb04-529940d093d9"
      },
      "execution_count": 32,
      "outputs": [
        {
          "output_type": "stream",
          "name": "stdout",
          "text": [
            "전체 샘플의 개수 :  197463\n"
          ]
        }
      ]
    },
    {
      "cell_type": "code",
      "source": [
        "lines = lines.loc[:, 'src':'tar']\n",
        "lines = lines[0:60000] # 60000개만 저장\n",
        "lines.sample(10)"
      ],
      "metadata": {
        "colab": {
          "base_uri": "https://localhost:8080/",
          "height": 363
        },
        "id": "XuwaJH2JZzz1",
        "outputId": "1dbe64f2-f124-4542-f159-5cd96b34093b"
      },
      "execution_count": 33,
      "outputs": [
        {
          "output_type": "execute_result",
          "data": {
            "text/plain": [
              "                           src                             tar\n",
              "28234       Your house is big.           Ta maison est grande.\n",
              "53791   What's all this noise?        Quel est tout ce bruit ?\n",
              "54514   You're perfect for me.    Vous êtes parfaite pour moi.\n",
              "48008   Did you say something?       Disais-tu quelque chose ?\n",
              "59112  Something wasn't right.         Quelque chose clochait.\n",
              "54478   You're my kind of gal.      T'es mon type de gonzesse.\n",
              "58710  My wife is a good cook.  Ma femme est bonne cuisinière.\n",
              "45722    Tom can speak French.       Tom peut parler français.\n",
              "48715   He ignored her advice.          Il ignora son conseil.\n",
              "16749         We're here, too.     Nous aussi nous sommes ici."
            ],
            "text/html": [
              "\n",
              "  <div id=\"df-910d09b8-d9e0-452f-8ae5-dac52325e4c6\">\n",
              "    <div class=\"colab-df-container\">\n",
              "      <div>\n",
              "<style scoped>\n",
              "    .dataframe tbody tr th:only-of-type {\n",
              "        vertical-align: middle;\n",
              "    }\n",
              "\n",
              "    .dataframe tbody tr th {\n",
              "        vertical-align: top;\n",
              "    }\n",
              "\n",
              "    .dataframe thead th {\n",
              "        text-align: right;\n",
              "    }\n",
              "</style>\n",
              "<table border=\"1\" class=\"dataframe\">\n",
              "  <thead>\n",
              "    <tr style=\"text-align: right;\">\n",
              "      <th></th>\n",
              "      <th>src</th>\n",
              "      <th>tar</th>\n",
              "    </tr>\n",
              "  </thead>\n",
              "  <tbody>\n",
              "    <tr>\n",
              "      <th>28234</th>\n",
              "      <td>Your house is big.</td>\n",
              "      <td>Ta maison est grande.</td>\n",
              "    </tr>\n",
              "    <tr>\n",
              "      <th>53791</th>\n",
              "      <td>What's all this noise?</td>\n",
              "      <td>Quel est tout ce bruit ?</td>\n",
              "    </tr>\n",
              "    <tr>\n",
              "      <th>54514</th>\n",
              "      <td>You're perfect for me.</td>\n",
              "      <td>Vous êtes parfaite pour moi.</td>\n",
              "    </tr>\n",
              "    <tr>\n",
              "      <th>48008</th>\n",
              "      <td>Did you say something?</td>\n",
              "      <td>Disais-tu quelque chose ?</td>\n",
              "    </tr>\n",
              "    <tr>\n",
              "      <th>59112</th>\n",
              "      <td>Something wasn't right.</td>\n",
              "      <td>Quelque chose clochait.</td>\n",
              "    </tr>\n",
              "    <tr>\n",
              "      <th>54478</th>\n",
              "      <td>You're my kind of gal.</td>\n",
              "      <td>T'es mon type de gonzesse.</td>\n",
              "    </tr>\n",
              "    <tr>\n",
              "      <th>58710</th>\n",
              "      <td>My wife is a good cook.</td>\n",
              "      <td>Ma femme est bonne cuisinière.</td>\n",
              "    </tr>\n",
              "    <tr>\n",
              "      <th>45722</th>\n",
              "      <td>Tom can speak French.</td>\n",
              "      <td>Tom peut parler français.</td>\n",
              "    </tr>\n",
              "    <tr>\n",
              "      <th>48715</th>\n",
              "      <td>He ignored her advice.</td>\n",
              "      <td>Il ignora son conseil.</td>\n",
              "    </tr>\n",
              "    <tr>\n",
              "      <th>16749</th>\n",
              "      <td>We're here, too.</td>\n",
              "      <td>Nous aussi nous sommes ici.</td>\n",
              "    </tr>\n",
              "  </tbody>\n",
              "</table>\n",
              "</div>\n",
              "      <button class=\"colab-df-convert\" onclick=\"convertToInteractive('df-910d09b8-d9e0-452f-8ae5-dac52325e4c6')\"\n",
              "              title=\"Convert this dataframe to an interactive table.\"\n",
              "              style=\"display:none;\">\n",
              "        \n",
              "  <svg xmlns=\"http://www.w3.org/2000/svg\" height=\"24px\"viewBox=\"0 0 24 24\"\n",
              "       width=\"24px\">\n",
              "    <path d=\"M0 0h24v24H0V0z\" fill=\"none\"/>\n",
              "    <path d=\"M18.56 5.44l.94 2.06.94-2.06 2.06-.94-2.06-.94-.94-2.06-.94 2.06-2.06.94zm-11 1L8.5 8.5l.94-2.06 2.06-.94-2.06-.94L8.5 2.5l-.94 2.06-2.06.94zm10 10l.94 2.06.94-2.06 2.06-.94-2.06-.94-.94-2.06-.94 2.06-2.06.94z\"/><path d=\"M17.41 7.96l-1.37-1.37c-.4-.4-.92-.59-1.43-.59-.52 0-1.04.2-1.43.59L10.3 9.45l-7.72 7.72c-.78.78-.78 2.05 0 2.83L4 21.41c.39.39.9.59 1.41.59.51 0 1.02-.2 1.41-.59l7.78-7.78 2.81-2.81c.8-.78.8-2.07 0-2.86zM5.41 20L4 18.59l7.72-7.72 1.47 1.35L5.41 20z\"/>\n",
              "  </svg>\n",
              "      </button>\n",
              "      \n",
              "  <style>\n",
              "    .colab-df-container {\n",
              "      display:flex;\n",
              "      flex-wrap:wrap;\n",
              "      gap: 12px;\n",
              "    }\n",
              "\n",
              "    .colab-df-convert {\n",
              "      background-color: #E8F0FE;\n",
              "      border: none;\n",
              "      border-radius: 50%;\n",
              "      cursor: pointer;\n",
              "      display: none;\n",
              "      fill: #1967D2;\n",
              "      height: 32px;\n",
              "      padding: 0 0 0 0;\n",
              "      width: 32px;\n",
              "    }\n",
              "\n",
              "    .colab-df-convert:hover {\n",
              "      background-color: #E2EBFA;\n",
              "      box-shadow: 0px 1px 2px rgba(60, 64, 67, 0.3), 0px 1px 3px 1px rgba(60, 64, 67, 0.15);\n",
              "      fill: #174EA6;\n",
              "    }\n",
              "\n",
              "    [theme=dark] .colab-df-convert {\n",
              "      background-color: #3B4455;\n",
              "      fill: #D2E3FC;\n",
              "    }\n",
              "\n",
              "    [theme=dark] .colab-df-convert:hover {\n",
              "      background-color: #434B5C;\n",
              "      box-shadow: 0px 1px 3px 1px rgba(0, 0, 0, 0.15);\n",
              "      filter: drop-shadow(0px 1px 2px rgba(0, 0, 0, 0.3));\n",
              "      fill: #FFFFFF;\n",
              "    }\n",
              "  </style>\n",
              "\n",
              "      <script>\n",
              "        const buttonEl =\n",
              "          document.querySelector('#df-910d09b8-d9e0-452f-8ae5-dac52325e4c6 button.colab-df-convert');\n",
              "        buttonEl.style.display =\n",
              "          google.colab.kernel.accessAllowed ? 'block' : 'none';\n",
              "\n",
              "        async function convertToInteractive(key) {\n",
              "          const element = document.querySelector('#df-910d09b8-d9e0-452f-8ae5-dac52325e4c6');\n",
              "          const dataTable =\n",
              "            await google.colab.kernel.invokeFunction('convertToInteractive',\n",
              "                                                     [key], {});\n",
              "          if (!dataTable) return;\n",
              "\n",
              "          const docLinkHtml = 'Like what you see? Visit the ' +\n",
              "            '<a target=\"_blank\" href=https://colab.research.google.com/notebooks/data_table.ipynb>data table notebook</a>'\n",
              "            + ' to learn more about interactive tables.';\n",
              "          element.innerHTML = '';\n",
              "          dataTable['output_type'] = 'display_data';\n",
              "          await google.colab.output.renderOutput(dataTable, element);\n",
              "          const docLink = document.createElement('div');\n",
              "          docLink.innerHTML = docLinkHtml;\n",
              "          element.appendChild(docLink);\n",
              "        }\n",
              "      </script>\n",
              "    </div>\n",
              "  </div>\n",
              "  "
            ]
          },
          "metadata": {},
          "execution_count": 33
        }
      ]
    },
    {
      "cell_type": "code",
      "source": [
        "lines.tar = lines.tar.apply(lambda x: '\\t' + x + '\\n')\n",
        "lines.sample(10)"
      ],
      "metadata": {
        "colab": {
          "base_uri": "https://localhost:8080/",
          "height": 363
        },
        "id": "gbwhiXE5Z7Db",
        "outputId": "abe316e9-a01d-4c61-ac27-7a60afb1762e"
      },
      "execution_count": 34,
      "outputs": [
        {
          "output_type": "execute_result",
          "data": {
            "text/plain": [
              "                           src                               tar\n",
              "536                  Get lost.                 \\tDéguerpissez.\\n\n",
              "1137                I'll obey.                    \\tJ'obéirai.\\n\n",
              "14869         I'm teasing you.                \\tJe te taquine.\\n\n",
              "54874  Beef is very expensive.        \\tLe bœuf est très cher.\\n\n",
              "57639  I'll study your report.  \\tJe vais étudier ton rapport.\\n\n",
              "28942      Give me more money.      \\tDonne-moi plus d'argent.\\n\n",
              "34101      You're out of luck.     \\tVotre chance est épuisée.\\n\n",
              "38221     That's nice to know.  \\tC'est chouette de le savoir.\\n\n",
              "43515    I'm all out of ideas.     \\tJe suis dépourvu d'idées.\\n\n",
              "21319        Tom was cheerful.    \\tTom était de bonne humeur.\\n"
            ],
            "text/html": [
              "\n",
              "  <div id=\"df-da4b0e40-86b1-41e7-9583-6b75458a30b1\">\n",
              "    <div class=\"colab-df-container\">\n",
              "      <div>\n",
              "<style scoped>\n",
              "    .dataframe tbody tr th:only-of-type {\n",
              "        vertical-align: middle;\n",
              "    }\n",
              "\n",
              "    .dataframe tbody tr th {\n",
              "        vertical-align: top;\n",
              "    }\n",
              "\n",
              "    .dataframe thead th {\n",
              "        text-align: right;\n",
              "    }\n",
              "</style>\n",
              "<table border=\"1\" class=\"dataframe\">\n",
              "  <thead>\n",
              "    <tr style=\"text-align: right;\">\n",
              "      <th></th>\n",
              "      <th>src</th>\n",
              "      <th>tar</th>\n",
              "    </tr>\n",
              "  </thead>\n",
              "  <tbody>\n",
              "    <tr>\n",
              "      <th>536</th>\n",
              "      <td>Get lost.</td>\n",
              "      <td>\\tDéguerpissez.\\n</td>\n",
              "    </tr>\n",
              "    <tr>\n",
              "      <th>1137</th>\n",
              "      <td>I'll obey.</td>\n",
              "      <td>\\tJ'obéirai.\\n</td>\n",
              "    </tr>\n",
              "    <tr>\n",
              "      <th>14869</th>\n",
              "      <td>I'm teasing you.</td>\n",
              "      <td>\\tJe te taquine.\\n</td>\n",
              "    </tr>\n",
              "    <tr>\n",
              "      <th>54874</th>\n",
              "      <td>Beef is very expensive.</td>\n",
              "      <td>\\tLe bœuf est très cher.\\n</td>\n",
              "    </tr>\n",
              "    <tr>\n",
              "      <th>57639</th>\n",
              "      <td>I'll study your report.</td>\n",
              "      <td>\\tJe vais étudier ton rapport.\\n</td>\n",
              "    </tr>\n",
              "    <tr>\n",
              "      <th>28942</th>\n",
              "      <td>Give me more money.</td>\n",
              "      <td>\\tDonne-moi plus d'argent.\\n</td>\n",
              "    </tr>\n",
              "    <tr>\n",
              "      <th>34101</th>\n",
              "      <td>You're out of luck.</td>\n",
              "      <td>\\tVotre chance est épuisée.\\n</td>\n",
              "    </tr>\n",
              "    <tr>\n",
              "      <th>38221</th>\n",
              "      <td>That's nice to know.</td>\n",
              "      <td>\\tC'est chouette de le savoir.\\n</td>\n",
              "    </tr>\n",
              "    <tr>\n",
              "      <th>43515</th>\n",
              "      <td>I'm all out of ideas.</td>\n",
              "      <td>\\tJe suis dépourvu d'idées.\\n</td>\n",
              "    </tr>\n",
              "    <tr>\n",
              "      <th>21319</th>\n",
              "      <td>Tom was cheerful.</td>\n",
              "      <td>\\tTom était de bonne humeur.\\n</td>\n",
              "    </tr>\n",
              "  </tbody>\n",
              "</table>\n",
              "</div>\n",
              "      <button class=\"colab-df-convert\" onclick=\"convertToInteractive('df-da4b0e40-86b1-41e7-9583-6b75458a30b1')\"\n",
              "              title=\"Convert this dataframe to an interactive table.\"\n",
              "              style=\"display:none;\">\n",
              "        \n",
              "  <svg xmlns=\"http://www.w3.org/2000/svg\" height=\"24px\"viewBox=\"0 0 24 24\"\n",
              "       width=\"24px\">\n",
              "    <path d=\"M0 0h24v24H0V0z\" fill=\"none\"/>\n",
              "    <path d=\"M18.56 5.44l.94 2.06.94-2.06 2.06-.94-2.06-.94-.94-2.06-.94 2.06-2.06.94zm-11 1L8.5 8.5l.94-2.06 2.06-.94-2.06-.94L8.5 2.5l-.94 2.06-2.06.94zm10 10l.94 2.06.94-2.06 2.06-.94-2.06-.94-.94-2.06-.94 2.06-2.06.94z\"/><path d=\"M17.41 7.96l-1.37-1.37c-.4-.4-.92-.59-1.43-.59-.52 0-1.04.2-1.43.59L10.3 9.45l-7.72 7.72c-.78.78-.78 2.05 0 2.83L4 21.41c.39.39.9.59 1.41.59.51 0 1.02-.2 1.41-.59l7.78-7.78 2.81-2.81c.8-.78.8-2.07 0-2.86zM5.41 20L4 18.59l7.72-7.72 1.47 1.35L5.41 20z\"/>\n",
              "  </svg>\n",
              "      </button>\n",
              "      \n",
              "  <style>\n",
              "    .colab-df-container {\n",
              "      display:flex;\n",
              "      flex-wrap:wrap;\n",
              "      gap: 12px;\n",
              "    }\n",
              "\n",
              "    .colab-df-convert {\n",
              "      background-color: #E8F0FE;\n",
              "      border: none;\n",
              "      border-radius: 50%;\n",
              "      cursor: pointer;\n",
              "      display: none;\n",
              "      fill: #1967D2;\n",
              "      height: 32px;\n",
              "      padding: 0 0 0 0;\n",
              "      width: 32px;\n",
              "    }\n",
              "\n",
              "    .colab-df-convert:hover {\n",
              "      background-color: #E2EBFA;\n",
              "      box-shadow: 0px 1px 2px rgba(60, 64, 67, 0.3), 0px 1px 3px 1px rgba(60, 64, 67, 0.15);\n",
              "      fill: #174EA6;\n",
              "    }\n",
              "\n",
              "    [theme=dark] .colab-df-convert {\n",
              "      background-color: #3B4455;\n",
              "      fill: #D2E3FC;\n",
              "    }\n",
              "\n",
              "    [theme=dark] .colab-df-convert:hover {\n",
              "      background-color: #434B5C;\n",
              "      box-shadow: 0px 1px 3px 1px rgba(0, 0, 0, 0.15);\n",
              "      filter: drop-shadow(0px 1px 2px rgba(0, 0, 0, 0.3));\n",
              "      fill: #FFFFFF;\n",
              "    }\n",
              "  </style>\n",
              "\n",
              "      <script>\n",
              "        const buttonEl =\n",
              "          document.querySelector('#df-da4b0e40-86b1-41e7-9583-6b75458a30b1 button.colab-df-convert');\n",
              "        buttonEl.style.display =\n",
              "          google.colab.kernel.accessAllowed ? 'block' : 'none';\n",
              "\n",
              "        async function convertToInteractive(key) {\n",
              "          const element = document.querySelector('#df-da4b0e40-86b1-41e7-9583-6b75458a30b1');\n",
              "          const dataTable =\n",
              "            await google.colab.kernel.invokeFunction('convertToInteractive',\n",
              "                                                     [key], {});\n",
              "          if (!dataTable) return;\n",
              "\n",
              "          const docLinkHtml = 'Like what you see? Visit the ' +\n",
              "            '<a target=\"_blank\" href=https://colab.research.google.com/notebooks/data_table.ipynb>data table notebook</a>'\n",
              "            + ' to learn more about interactive tables.';\n",
              "          element.innerHTML = '';\n",
              "          dataTable['output_type'] = 'display_data';\n",
              "          await google.colab.output.renderOutput(dataTable, element);\n",
              "          const docLink = document.createElement('div');\n",
              "          docLink.innerHTML = docLinkHtml;\n",
              "          element.appendChild(docLink);\n",
              "        }\n",
              "      </script>\n",
              "    </div>\n",
              "  </div>\n",
              "  "
            ]
          },
          "metadata": {},
          "execution_count": 34
        }
      ]
    },
    {
      "cell_type": "code",
      "source": [
        "# 문자 집합 구축\n",
        "src_vocab = set()\n",
        "for line in lines.src : # 1줄씩 읽음\n",
        "  for char in line : #1개의 문자씩 읽음\n",
        "    src_vocab.add(char)\n",
        "\n",
        "\n",
        "tar_vocab = set()\n",
        "for line in lines.tar :\n",
        "  for char in line :\n",
        "    tar_vocab.add(char)"
      ],
      "metadata": {
        "id": "bvvLEAFBaHKb"
      },
      "execution_count": 35,
      "outputs": []
    },
    {
      "cell_type": "code",
      "source": [
        "# 문자 집합의 크기 보기\n",
        "src_vocab_size = len(src_vocab) + 1\n",
        "tar_vocab_size = len(tar_vocab) + 1\n",
        "print('source 문장의 char 집합 : ', src_vocab_size)\n",
        "print('target 문장의 char 집합 : ', tar_vocab_size)"
      ],
      "metadata": {
        "colab": {
          "base_uri": "https://localhost:8080/"
        },
        "id": "iKT7zdihaacl",
        "outputId": "9c6c2769-9b1c-44d5-8ad3-ae965cb6653a"
      },
      "execution_count": 36,
      "outputs": [
        {
          "output_type": "stream",
          "name": "stdout",
          "text": [
            "source 문장의 char 집합 :  79\n",
            "target 문장의 char 집합 :  105\n"
          ]
        }
      ]
    },
    {
      "cell_type": "code",
      "source": [
        "src_vocab = sorted(list(src_vocab))\n",
        "tar_vocab = sorted(list(tar_vocab))\n",
        "print(src_vocab[45:75])\n",
        "print(tar_vocab[45:75])"
      ],
      "metadata": {
        "colab": {
          "base_uri": "https://localhost:8080/"
        },
        "id": "aWu-B_RZawIx",
        "outputId": "222b5904-b800-4acd-9b2f-228f93aaff66"
      },
      "execution_count": 37,
      "outputs": [
        {
          "output_type": "stream",
          "name": "stdout",
          "text": [
            "['W', 'X', 'Y', 'Z', 'a', 'b', 'c', 'd', 'e', 'f', 'g', 'h', 'i', 'j', 'k', 'l', 'm', 'n', 'o', 'p', 'q', 'r', 's', 't', 'u', 'v', 'w', 'x', 'y', 'z']\n",
            "['T', 'U', 'V', 'W', 'X', 'Y', 'Z', 'a', 'b', 'c', 'd', 'e', 'f', 'g', 'h', 'i', 'j', 'k', 'l', 'm', 'n', 'o', 'p', 'q', 'r', 's', 't', 'u', 'v', 'w']\n"
          ]
        }
      ]
    },
    {
      "cell_type": "code",
      "source": [
        "# 각 문자에 인덱스 부여\n",
        "src_to_index = dict([word, i+1] for i , word in enumerate(src_vocab))\n",
        "tar_to_index = dict([word, i+1] for i , word in enumerate(tar_vocab))\n",
        "print(src_to_index)\n",
        "print(tar_to_index)"
      ],
      "metadata": {
        "colab": {
          "base_uri": "https://localhost:8080/"
        },
        "id": "I8t2mknSa5sv",
        "outputId": "1f71e624-501d-43e9-f951-65c1e8ca41b8"
      },
      "execution_count": 38,
      "outputs": [
        {
          "output_type": "stream",
          "name": "stdout",
          "text": [
            "{' ': 1, '!': 2, '\"': 3, '$': 4, '%': 5, '&': 6, \"'\": 7, ',': 8, '-': 9, '.': 10, '/': 11, '0': 12, '1': 13, '2': 14, '3': 15, '4': 16, '5': 17, '6': 18, '7': 19, '8': 20, '9': 21, ':': 22, '?': 23, 'A': 24, 'B': 25, 'C': 26, 'D': 27, 'E': 28, 'F': 29, 'G': 30, 'H': 31, 'I': 32, 'J': 33, 'K': 34, 'L': 35, 'M': 36, 'N': 37, 'O': 38, 'P': 39, 'Q': 40, 'R': 41, 'S': 42, 'T': 43, 'U': 44, 'V': 45, 'W': 46, 'X': 47, 'Y': 48, 'Z': 49, 'a': 50, 'b': 51, 'c': 52, 'd': 53, 'e': 54, 'f': 55, 'g': 56, 'h': 57, 'i': 58, 'j': 59, 'k': 60, 'l': 61, 'm': 62, 'n': 63, 'o': 64, 'p': 65, 'q': 66, 'r': 67, 's': 68, 't': 69, 'u': 70, 'v': 71, 'w': 72, 'x': 73, 'y': 74, 'z': 75, 'é': 76, '’': 77, '€': 78}\n",
            "{'\\t': 1, '\\n': 2, ' ': 3, '!': 4, '\"': 5, '$': 6, '%': 7, '&': 8, \"'\": 9, '(': 10, ')': 11, ',': 12, '-': 13, '.': 14, '0': 15, '1': 16, '2': 17, '3': 18, '4': 19, '5': 20, '6': 21, '7': 22, '8': 23, '9': 24, ':': 25, '?': 26, 'A': 27, 'B': 28, 'C': 29, 'D': 30, 'E': 31, 'F': 32, 'G': 33, 'H': 34, 'I': 35, 'J': 36, 'K': 37, 'L': 38, 'M': 39, 'N': 40, 'O': 41, 'P': 42, 'Q': 43, 'R': 44, 'S': 45, 'T': 46, 'U': 47, 'V': 48, 'W': 49, 'X': 50, 'Y': 51, 'Z': 52, 'a': 53, 'b': 54, 'c': 55, 'd': 56, 'e': 57, 'f': 58, 'g': 59, 'h': 60, 'i': 61, 'j': 62, 'k': 63, 'l': 64, 'm': 65, 'n': 66, 'o': 67, 'p': 68, 'q': 69, 'r': 70, 's': 71, 't': 72, 'u': 73, 'v': 74, 'w': 75, 'x': 76, 'y': 77, 'z': 78, '\\xa0': 79, '«': 80, '»': 81, 'À': 82, 'Ç': 83, 'É': 84, 'Ê': 85, 'Ô': 86, 'à': 87, 'â': 88, 'ç': 89, 'è': 90, 'é': 91, 'ê': 92, 'ë': 93, 'î': 94, 'ï': 95, 'ô': 96, 'ù': 97, 'û': 98, 'œ': 99, '\\u2009': 100, '\\u200b': 101, '‘': 102, '’': 103, '\\u202f': 104}\n"
          ]
        }
      ]
    },
    {
      "cell_type": "code",
      "source": [
        "# 인덱스가 부여된 문자 집합으로부터 갖고있는 훈련 데이터에 정수 인코딩 진행.\n",
        "\n",
        "encoder_input = []\n",
        "\n",
        "# 1개의 문장\n",
        "for line in lines.src :\n",
        "  encoded_line = []\n",
        "  # 각 줄에서 1개의 char\n",
        "  for char in line :\n",
        "    # 각 char을 정수로 변환\n",
        "    encoded_line.append(src_to_index[char])\n",
        "  encoder_input.append(encoded_line)\n",
        "print(\"source 문장의 정수 인코딩 : \", encoder_input[:5])"
      ],
      "metadata": {
        "colab": {
          "base_uri": "https://localhost:8080/"
        },
        "id": "06ly-_K9bTH0",
        "outputId": "48b95796-357f-4171-8d12-271ea3dea1ac"
      },
      "execution_count": 39,
      "outputs": [
        {
          "output_type": "stream",
          "name": "stdout",
          "text": [
            "source 문장의 정수 인코딩 :  [[30, 64, 10], [30, 64, 10], [30, 64, 10], [30, 64, 10], [31, 58, 10]]\n"
          ]
        }
      ]
    },
    {
      "cell_type": "code",
      "source": [
        "# 디코더의 입력이 될 프랑스어 데이터에 대해서 정수 인코딩 진행\n",
        "decoder_input = []\n",
        "for line in lines.tar :\n",
        "  encoded_line = []\n",
        "  for char in line :\n",
        "    encoded_line.append(tar_to_index[char])\n",
        "  decoder_input.append(encoded_line)\n",
        "print(\"target 문장의 정수 인코딩 : \", decoder_input[:5])"
      ],
      "metadata": {
        "colab": {
          "base_uri": "https://localhost:8080/"
        },
        "id": "17NXDBTZbzfp",
        "outputId": "c77f4820-6fae-451f-f702-708bd2d26f32"
      },
      "execution_count": 40,
      "outputs": [
        {
          "output_type": "stream",
          "name": "stdout",
          "text": [
            "target 문장의 정수 인코딩 :  [[1, 48, 53, 3, 4, 2], [1, 39, 53, 70, 55, 60, 57, 14, 2], [1, 31, 66, 3, 70, 67, 73, 72, 57, 3, 4, 2], [1, 28, 67, 73, 59, 57, 3, 4, 2], [1, 45, 53, 64, 73, 72, 3, 4, 2]]\n"
          ]
        }
      ]
    },
    {
      "cell_type": "code",
      "source": [
        "# 정수 인코딩  과정에서 <sos> 제거 \\t 제거\n",
        "\n",
        "decoder_target = []\n",
        "for line in lines.tar :\n",
        "  timestep = 0\n",
        "  encoded_line = []\n",
        "  for char in line :\n",
        "    if timestep > 0 :\n",
        "      encoded_line.append(tar_to_index[char])\n",
        "    timestep = timestep + 1\n",
        "  decoder_target.append(encoded_line)\n",
        "print('target 문장 레이블의 정수 인코딩 : ', decoder_target[:5])"
      ],
      "metadata": {
        "colab": {
          "base_uri": "https://localhost:8080/"
        },
        "id": "oz0-Qqo1cKPe",
        "outputId": "456c8211-d009-4a7d-b056-270205a8889c"
      },
      "execution_count": 41,
      "outputs": [
        {
          "output_type": "stream",
          "name": "stdout",
          "text": [
            "target 문장 레이블의 정수 인코딩 :  [[48, 53, 3, 4, 2], [39, 53, 70, 55, 60, 57, 14, 2], [31, 66, 3, 70, 67, 73, 72, 57, 3, 4, 2], [28, 67, 73, 59, 57, 3, 4, 2], [45, 53, 64, 73, 72, 3, 4, 2]]\n"
          ]
        }
      ]
    },
    {
      "cell_type": "code",
      "source": [
        "# Padding 작업\n",
        "max_src_len  = max([len(line) for line in lines.src])\n",
        "max_tar_len  = max([len(line) for line in lines.tar])\n",
        "print('source 문장의 최대 길이 : ', max_src_len)\n",
        "print('target 문장의 최대 길이 : ', max_tar_len)"
      ],
      "metadata": {
        "colab": {
          "base_uri": "https://localhost:8080/"
        },
        "id": "MFI5Fthic8BW",
        "outputId": "baae01e1-7438-4ed3-fada-ff0adbdc4c90"
      },
      "execution_count": 42,
      "outputs": [
        {
          "output_type": "stream",
          "name": "stdout",
          "text": [
            "source 문장의 최대 길이 :  23\n",
            "target 문장의 최대 길이 :  74\n"
          ]
        }
      ]
    },
    {
      "cell_type": "code",
      "source": [
        "# 영어 데이터의 샘플은 23으로 패딩, 프랑스 데이터 샘플은 74로 패딩\n",
        "encoder_input = pad_sequences(encoder_input, maxlen = max_src_len , padding = 'post')\n",
        "decoder_input = pad_sequences(decoder_input, maxlen = max_tar_len, padding = 'post')\n",
        "decoder_target = pad_sequences(decoder_target, maxlen = max_tar_len, padding = 'post')"
      ],
      "metadata": {
        "id": "f3_kg8YYdPau"
      },
      "execution_count": 43,
      "outputs": []
    },
    {
      "cell_type": "code",
      "source": [
        "# 모든 값에 대해 원핫인코딩 수행\n",
        "encoder_input = to_categorical(encoder_input)\n",
        "decoder_input = to_categorical(decoder_input)\n",
        "decoder_target = to_categorical(decoder_target)"
      ],
      "metadata": {
        "id": "Z1bQOORwdq-q"
      },
      "execution_count": 44,
      "outputs": []
    },
    {
      "cell_type": "code",
      "source": [
        "# 교사 강요 (teacher forcing)\n",
        "from tensorflow.keras.layers import Input, LSTM, Embedding, Dense\n",
        "from tensorflow.keras.models import Model\n",
        "import numpy as np"
      ],
      "metadata": {
        "id": "PJQkTV9ud0rV"
      },
      "execution_count": 45,
      "outputs": []
    },
    {
      "cell_type": "code",
      "source": [
        "encoder_inputs = Input(shape = (None, src_vocab_size))\n",
        "encoder_lstm = LSTM(units = 256, return_state = True)\n",
        "\n",
        "# encoder_outputss 는 여기서는 불필요\n",
        "encoder_outputs, state_h, state_c = encoder_lstm(encoder_inputs)\n",
        "\n",
        "# LSTM 은 바닐라 RNN 과는 달리 상태가 두 개, 은닉상태와 셀 상태\n",
        "encoder_states = [state_h, state_c] # 이게 Context Vector 이다."
      ],
      "metadata": {
        "id": "O7KWY7tseIPH"
      },
      "execution_count": 46,
      "outputs": []
    },
    {
      "cell_type": "code",
      "source": [
        "decoder_inputs = Input(shape  = (None, tar_vocab_size))\n",
        "decoder_lstm = LSTM(units = 256, return_sequences = True, return_state = True)\n",
        "\n",
        "# 디코더에게 인코더의 은닉, 셀 상태 전달\n",
        "decoder_outputs , _, _ = decoder_lstm(decoder_inputs, initial_state=  encoder_states)\n",
        "\n",
        "decoder_softmax_layer = Dense(tar_vocab_size, activation =  'softmax')\n",
        "decoder_outputs = decoder_softmax_layer(decoder_outputs)\n",
        "\n",
        "model = Model([encoder_inputs, decoder_inputs], decoder_outputs)\n",
        "model.compile(optimizer = 'rmsprop', loss = 'categorical_crossentropy')"
      ],
      "metadata": {
        "id": "KDjZVSV6eazy"
      },
      "execution_count": 47,
      "outputs": []
    },
    {
      "cell_type": "code",
      "source": [
        "model.fit(x=[encoder_input, decoder_input], y=decoder_target, batch_size = 64, epochs = 10, validation_split = 0.2)"
      ],
      "metadata": {
        "colab": {
          "base_uri": "https://localhost:8080/"
        },
        "id": "PS93pL1OfQBg",
        "outputId": "554de0f8-a2a6-4006-bb79-f293d6e037e4"
      },
      "execution_count": 48,
      "outputs": [
        {
          "output_type": "stream",
          "name": "stdout",
          "text": [
            "Epoch 1/10\n",
            "750/750 [==============================] - 325s 425ms/step - loss: 0.7549 - val_loss: 0.6796\n",
            "Epoch 2/10\n",
            "750/750 [==============================] - 316s 421ms/step - loss: 0.4637 - val_loss: 0.5443\n",
            "Epoch 3/10\n",
            "750/750 [==============================] - 317s 423ms/step - loss: 0.3885 - val_loss: 0.4859\n",
            "Epoch 4/10\n",
            "750/750 [==============================] - 316s 422ms/step - loss: 0.3459 - val_loss: 0.4466\n",
            "Epoch 5/10\n",
            "750/750 [==============================] - 314s 419ms/step - loss: 0.3172 - val_loss: 0.4207\n",
            "Epoch 6/10\n",
            "750/750 [==============================] - 312s 416ms/step - loss: 0.2961 - val_loss: 0.4038\n",
            "Epoch 7/10\n",
            "750/750 [==============================] - 316s 422ms/step - loss: 0.2799 - val_loss: 0.3916\n",
            "Epoch 8/10\n",
            "750/750 [==============================] - 312s 416ms/step - loss: 0.2667 - val_loss: 0.3817\n",
            "Epoch 9/10\n",
            "750/750 [==============================] - 311s 414ms/step - loss: 0.2558 - val_loss: 0.3751\n",
            "Epoch 10/10\n",
            "750/750 [==============================] - 311s 414ms/step - loss: 0.2462 - val_loss: 0.3695\n"
          ]
        },
        {
          "output_type": "execute_result",
          "data": {
            "text/plain": [
              "<keras.callbacks.History at 0x7f63cacf11f0>"
            ]
          },
          "metadata": {},
          "execution_count": 48
        }
      ]
    },
    {
      "cell_type": "code",
      "source": [
        "# 번역기 동작시키기\n",
        "encoder_model = Model(inputs = encoder_inputs, outputs= encoder_states)"
      ],
      "metadata": {
        "id": "iHgWhOJpffeQ"
      },
      "execution_count": 49,
      "outputs": []
    },
    {
      "cell_type": "code",
      "source": [
        "#  이전 시점들의 상태들을 저장하는 Tensor\n",
        "decoder_state_input_h = Input(shape = (256, ))\n",
        "decoder_state_input_c = Input(shape = (256, ))\n",
        "decoder_states_inputs = [decoder_state_input_h, decoder_state_input_c] \n",
        "\n",
        "# 문장의 다음 단어를 예측하기 위해서 초기 상태(initial_state) 를 이전 시점의 상태로 사용,. \n",
        "# 뒤의 함수 decode_sequence() 에 동작을 구현 예정\n",
        "decoder_outputs, state_h, state_c = decoder_lstm(decoder_inputs, initial_state= decoder_states_inputs)\n",
        "\n",
        "# 훈련 과정에서와 달리 LSTM의 리턴하는 은닉 상태와 셀 상태를 버리지 않음.\n",
        "decoder_states= [state_h, state_c]\n",
        "decoder_outputss = decoder_softmax_layer(decoder_outputs)\n",
        "decoder_model = Model(inputs= [decoder_inputs] + decoder_states_inputs, outputs = [decoder_outputs] + decoder_states )"
      ],
      "metadata": {
        "id": "w6SKpQi6jsKq"
      },
      "execution_count": 51,
      "outputs": []
    },
    {
      "cell_type": "code",
      "source": [
        "index_to_src = dict((i, char) for char, i in src_to_index.items())\n",
        "index_to_tar = dict((i, char) for char, i in tar_to_index.items())"
      ],
      "metadata": {
        "id": "qi61DKYNjt6f"
      },
      "execution_count": 52,
      "outputs": []
    },
    {
      "cell_type": "code",
      "source": [
        "def decode_sequence(input_seq):\n",
        "  # 입력으로부터 인코더의 상태를 얻음\n",
        "  states_value = encoder_model.predict(input_seq)\n",
        "\n",
        "  # <SOS>에 해당하는 원-핫 벡터 생성\n",
        "  target_seq = np.zeros((1, 1, tar_vocab_size))\n",
        "  target_seq[0, 0, tar_to_index['\\t']] = 1.\n",
        "\n",
        "  stop_condition = False\n",
        "  decoded_sentence = \" \"\n",
        "\n",
        "  # stop_condition이 True가 될 때까지 루프 반복\n",
        "  while not stop_condition:\n",
        "    # 이점 시점의 상태 states_value를 현 시점의 초기 상태로 사용\n",
        "    output_tokens, h, c = decoder_model.predict([target_seq] + states_value)\n",
        "\n",
        "    # 예측 결과를 문자로 변환\n",
        "    sampled_token_index = np.argmax(output_tokens[0, -1, :])\n",
        "    sampled_char = index_to_tar[sampled_token_index]\n",
        "\n",
        "    # 현재 시점의 예측 문자를 예측 문장에 추가\n",
        "    decoded_sentence += sampled_char\n",
        "\n",
        "    # <eos>에 도달하거나 최대 길이를 넘으면 중단.\n",
        "    if (sampled_char == '\\n' or\n",
        "        len(decoded_sentence) > max_tar_len):\n",
        "        stop_condition = True\n",
        "\n",
        "    # 현재 시점의 예측 결과를 다음 시점의 입력으로 사용하기 위해 저장\n",
        "    target_seq = np.zeros((1, 1, tar_vocab_size))\n",
        "    target_seq[0, 0, sampled_token_index] = 1.\n",
        "\n",
        "    # 현재 시점의 상태를 다음 시점의 상태로 사용하기 위해 저장\n",
        "    states_value = [h, c]\n",
        "\n",
        "  return decoded_sentence\n",
        "  return decoded_sentence"
      ],
      "metadata": {
        "id": "14AEHkwcjuL2"
      },
      "execution_count": 62,
      "outputs": []
    },
    {
      "cell_type": "code",
      "source": [
        "for seq_index in [3,50,100,300,1001]: # 입력 문장의 인덱스\n",
        "  input_seq = encoder_input[seq_index:seq_index+1]\n",
        "  decoded_sentence = decode_sequence(input_seq)\n",
        "  print(35 * \"-\")\n",
        "  print('입력 문장:', lines.src[seq_index])\n",
        "  print('정답 문장:', lines.tar[seq_index][2:len(lines.tar[seq_index])-1]) # '\\t'와 '\\n'을 빼고 출력\n",
        "  print('번역 문장:', decoded_sentence[1:len(decoded_sentence)-1]) # '\\n'을 빼고 출력"
      ],
      "metadata": {
        "colab": {
          "base_uri": "https://localhost:8080/",
          "height": 413
        },
        "id": "mG-WJ964mJmk",
        "outputId": "157c528b-3bc7-4220-8a32-1ad0ca02aa54"
      },
      "execution_count": 63,
      "outputs": [
        {
          "output_type": "stream",
          "name": "stdout",
          "text": [
            "1/1 [==============================] - 0s 25ms/step\n",
            "1/1 [==============================] - 0s 24ms/step\n"
          ]
        },
        {
          "output_type": "error",
          "ename": "KeyError",
          "evalue": "ignored",
          "traceback": [
            "\u001b[0;31m---------------------------------------------------------------------------\u001b[0m",
            "\u001b[0;31mKeyError\u001b[0m                                  Traceback (most recent call last)",
            "\u001b[0;32m<ipython-input-63-e863f353130c>\u001b[0m in \u001b[0;36m<module>\u001b[0;34m\u001b[0m\n\u001b[1;32m      1\u001b[0m \u001b[0;32mfor\u001b[0m \u001b[0mseq_index\u001b[0m \u001b[0;32min\u001b[0m \u001b[0;34m[\u001b[0m\u001b[0;36m3\u001b[0m\u001b[0;34m,\u001b[0m\u001b[0;36m50\u001b[0m\u001b[0;34m,\u001b[0m\u001b[0;36m100\u001b[0m\u001b[0;34m,\u001b[0m\u001b[0;36m300\u001b[0m\u001b[0;34m,\u001b[0m\u001b[0;36m1001\u001b[0m\u001b[0;34m]\u001b[0m\u001b[0;34m:\u001b[0m \u001b[0;31m# 입력 문장의 인덱스\u001b[0m\u001b[0;34m\u001b[0m\u001b[0;34m\u001b[0m\u001b[0m\n\u001b[1;32m      2\u001b[0m   \u001b[0minput_seq\u001b[0m \u001b[0;34m=\u001b[0m \u001b[0mencoder_input\u001b[0m\u001b[0;34m[\u001b[0m\u001b[0mseq_index\u001b[0m\u001b[0;34m:\u001b[0m\u001b[0mseq_index\u001b[0m\u001b[0;34m+\u001b[0m\u001b[0;36m1\u001b[0m\u001b[0;34m]\u001b[0m\u001b[0;34m\u001b[0m\u001b[0;34m\u001b[0m\u001b[0m\n\u001b[0;32m----> 3\u001b[0;31m   \u001b[0mdecoded_sentence\u001b[0m \u001b[0;34m=\u001b[0m \u001b[0mdecode_sequence\u001b[0m\u001b[0;34m(\u001b[0m\u001b[0minput_seq\u001b[0m\u001b[0;34m)\u001b[0m\u001b[0;34m\u001b[0m\u001b[0;34m\u001b[0m\u001b[0m\n\u001b[0m\u001b[1;32m      4\u001b[0m   \u001b[0mprint\u001b[0m\u001b[0;34m(\u001b[0m\u001b[0;36m35\u001b[0m \u001b[0;34m*\u001b[0m \u001b[0;34m\"-\"\u001b[0m\u001b[0;34m)\u001b[0m\u001b[0;34m\u001b[0m\u001b[0;34m\u001b[0m\u001b[0m\n\u001b[1;32m      5\u001b[0m   \u001b[0mprint\u001b[0m\u001b[0;34m(\u001b[0m\u001b[0;34m'입력 문장:'\u001b[0m\u001b[0;34m,\u001b[0m \u001b[0mlines\u001b[0m\u001b[0;34m.\u001b[0m\u001b[0msrc\u001b[0m\u001b[0;34m[\u001b[0m\u001b[0mseq_index\u001b[0m\u001b[0;34m]\u001b[0m\u001b[0;34m)\u001b[0m\u001b[0;34m\u001b[0m\u001b[0;34m\u001b[0m\u001b[0m\n",
            "\u001b[0;32m<ipython-input-62-30fcd97dd7a6>\u001b[0m in \u001b[0;36mdecode_sequence\u001b[0;34m(input_seq)\u001b[0m\n\u001b[1;32m     17\u001b[0m     \u001b[0;31m# 예측 결과를 문자로 변환\u001b[0m\u001b[0;34m\u001b[0m\u001b[0;34m\u001b[0m\u001b[0;34m\u001b[0m\u001b[0m\n\u001b[1;32m     18\u001b[0m     \u001b[0msampled_token_index\u001b[0m \u001b[0;34m=\u001b[0m \u001b[0mnp\u001b[0m\u001b[0;34m.\u001b[0m\u001b[0margmax\u001b[0m\u001b[0;34m(\u001b[0m\u001b[0moutput_tokens\u001b[0m\u001b[0;34m[\u001b[0m\u001b[0;36m0\u001b[0m\u001b[0;34m,\u001b[0m \u001b[0;34m-\u001b[0m\u001b[0;36m1\u001b[0m\u001b[0;34m,\u001b[0m \u001b[0;34m:\u001b[0m\u001b[0;34m]\u001b[0m\u001b[0;34m)\u001b[0m\u001b[0;34m\u001b[0m\u001b[0;34m\u001b[0m\u001b[0m\n\u001b[0;32m---> 19\u001b[0;31m     \u001b[0msampled_char\u001b[0m \u001b[0;34m=\u001b[0m \u001b[0mindex_to_tar\u001b[0m\u001b[0;34m[\u001b[0m\u001b[0msampled_token_index\u001b[0m\u001b[0;34m]\u001b[0m\u001b[0;34m\u001b[0m\u001b[0;34m\u001b[0m\u001b[0m\n\u001b[0m\u001b[1;32m     20\u001b[0m \u001b[0;34m\u001b[0m\u001b[0m\n\u001b[1;32m     21\u001b[0m     \u001b[0;31m# 현재 시점의 예측 문자를 예측 문장에 추가\u001b[0m\u001b[0;34m\u001b[0m\u001b[0;34m\u001b[0m\u001b[0;34m\u001b[0m\u001b[0m\n",
            "\u001b[0;31mKeyError\u001b[0m: 165"
          ]
        }
      ]
    },
    {
      "cell_type": "code",
      "source": [],
      "metadata": {
        "id": "7QwfXmiXmRFu"
      },
      "execution_count": null,
      "outputs": []
    }
  ]
}