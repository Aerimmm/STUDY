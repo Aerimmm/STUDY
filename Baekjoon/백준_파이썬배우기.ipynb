{
 "cells": [
  {
   "cell_type": "markdown",
   "id": "e5fca939",
   "metadata": {},
   "source": [
    "# BaekJoon \n",
    "## Learn Python\n",
    "\n",
    "<br>\n",
    "\n",
    "- https://www.acmicpc.net/workbook/view/459"
   ]
  },
  {
   "cell_type": "code",
   "execution_count": 1,
   "id": "17ee014d",
   "metadata": {},
   "outputs": [
    {
     "name": "stdout",
     "output_type": "stream",
     "text": [
      "Hello World!\n"
     ]
    }
   ],
   "source": [
    "#1 2557 Hello World\n",
    "print(\"Hello World!\")"
   ]
  },
  {
   "cell_type": "code",
   "execution_count": 4,
   "id": "a1b1f745",
   "metadata": {},
   "outputs": [
    {
     "name": "stdout",
     "output_type": "stream",
     "text": [
      "3 2\n",
      "5\n"
     ]
    }
   ],
   "source": [
    "#2 1000 A+B\n",
    "A, B = input().split() # split()으로 공백 구분하여 A, B에 담음\n",
    "print(int(A)+int(B)) # 기본 입력 문자열형이라 정수형 변환"
   ]
  },
  {
   "cell_type": "code",
   "execution_count": 3,
   "id": "4e051b71",
   "metadata": {},
   "outputs": [
    {
     "name": "stdout",
     "output_type": "stream",
     "text": [
      "2 3\n",
      "6\n"
     ]
    }
   ],
   "source": [
    "#3 10998 A*B\n",
    "A, B = input().split()\n",
    "print(int(A)*int(B))"
   ]
  },
  {
   "cell_type": "code",
   "execution_count": 5,
   "id": "470a6b67",
   "metadata": {},
   "outputs": [
    {
     "name": "stdout",
     "output_type": "stream",
     "text": [
      "2 0\n",
      "2\n"
     ]
    }
   ],
   "source": [
    "#4 1001 A-B\n",
    "A, B = input().split()\n",
    "print(int(A)-int(B))"
   ]
  },
  {
   "cell_type": "code",
   "execution_count": null,
   "id": "90aac59f",
   "metadata": {},
   "outputs": [],
   "source": []
  }
 ],
 "metadata": {
  "kernelspec": {
   "display_name": "Python 3 (ipykernel)",
   "language": "python",
   "name": "python3"
  },
  "language_info": {
   "codemirror_mode": {
    "name": "ipython",
    "version": 3
   },
   "file_extension": ".py",
   "mimetype": "text/x-python",
   "name": "python",
   "nbconvert_exporter": "python",
   "pygments_lexer": "ipython3",
   "version": "3.9.12"
  }
 },
 "nbformat": 4,
 "nbformat_minor": 5
}
