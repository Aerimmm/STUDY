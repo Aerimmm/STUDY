{
 "cells": [
  {
   "cell_type": "code",
   "execution_count": 1,
   "id": "92f78e8d",
   "metadata": {},
   "outputs": [],
   "source": [
    "import warnings\n",
    "warnings.simplefilter(action='ignore', category=FutureWarning)\n",
    "import pandas as pd\n",
    "import numpy as np\n",
    "from matplotlib import pyplot as plt\n",
    "import seaborn as sns\n",
    "%matplotlib inline\n",
    "from sklearn.datasets import make_classification"
   ]
  },
  {
   "cell_type": "code",
   "execution_count": 18,
   "id": "19b8b713",
   "metadata": {},
   "outputs": [
    {
     "name": "stdout",
     "output_type": "stream",
     "text": [
      "Collecting imblearn\n",
      "  Using cached imblearn-0.0-py2.py3-none-any.whl (1.9 kB)\n",
      "Requirement already satisfied: imbalanced-learn in c:\\users\\user\\anaconda3\\lib\\site-packages (from imblearn) (0.9.1)\n",
      "Requirement already satisfied: joblib>=1.0.0 in c:\\users\\user\\anaconda3\\lib\\site-packages (from imbalanced-learn->imblearn) (1.1.0)\n",
      "Requirement already satisfied: scikit-learn>=1.1.0 in c:\\users\\user\\anaconda3\\lib\\site-packages (from imbalanced-learn->imblearn) (1.1.1)\n",
      "Requirement already satisfied: numpy>=1.17.3 in c:\\users\\user\\anaconda3\\lib\\site-packages (from imbalanced-learn->imblearn) (1.21.5)\n",
      "Requirement already satisfied: threadpoolctl>=2.0.0 in c:\\users\\user\\anaconda3\\lib\\site-packages (from imbalanced-learn->imblearn) (2.2.0)\n",
      "Requirement already satisfied: scipy>=1.3.2 in c:\\users\\user\\anaconda3\\lib\\site-packages (from imbalanced-learn->imblearn) (1.7.3)\n",
      "Installing collected packages: imblearn\n",
      "Successfully installed imblearn-0.0\n"
     ]
    }
   ],
   "source": [
    "!pip install imblearn"
   ]
  },
  {
   "cell_type": "code",
   "execution_count": 16,
   "id": "a1e0248c",
   "metadata": {},
   "outputs": [
    {
     "name": "stdout",
     "output_type": "stream",
     "text": [
      "Collecting imbalanced-learn\n",
      "  Using cached imbalanced_learn-0.9.1-py3-none-any.whl (199 kB)\n",
      "Requirement already satisfied: scipy>=1.3.2 in c:\\users\\user\\anaconda3\\lib\\site-packages (from imbalanced-learn) (1.7.3)\n",
      "Requirement already satisfied: scikit-learn>=1.1.0 in c:\\users\\user\\anaconda3\\lib\\site-packages (from imbalanced-learn) (1.1.1)\n",
      "Requirement already satisfied: numpy>=1.17.3 in c:\\users\\user\\anaconda3\\lib\\site-packages (from imbalanced-learn) (1.21.5)\n",
      "Requirement already satisfied: threadpoolctl>=2.0.0 in c:\\users\\user\\anaconda3\\lib\\site-packages (from imbalanced-learn) (2.2.0)\n",
      "Requirement already satisfied: joblib>=1.0.0 in c:\\users\\user\\anaconda3\\lib\\site-packages (from imbalanced-learn) (1.1.0)\n",
      "Installing collected packages: imbalanced-learn\n",
      "Successfully installed imbalanced-learn-0.9.1\n",
      "Note: you may need to restart the kernel to use updated packages.\n"
     ]
    }
   ],
   "source": [
    "!pip install imbalanced-learn"
   ]
  },
  {
   "cell_type": "code",
   "execution_count": 2,
   "id": "2913d143",
   "metadata": {},
   "outputs": [],
   "source": [
    "# 불균형 데이터 처리 - 언더 샘플링\n",
    "from imblearn.under_sampling import RandomUnderSampler\n",
    "from imblearn.under_sampling import TomekLinks\n",
    "from imblearn.under_sampling import OneSidedSelection\n",
    "\n",
    "# 불균형 데이터 처리 - 오버 샘플링\n",
    "from imblearn.over_sampling import RandomOverSampler\n",
    "from imblearn.over_sampling import SMOTE\n",
    "from imblearn.over_sampling import ADASYN\n",
    "from imblearn.over_sampling import BorderlineSMOTE\n",
    "\n",
    "# 데이터 검증\n",
    "from sklearn.ensemble import RandomForestClassifier #랜덤 포레스트\n",
    "from sklearn.model_selection import RepeatedStratifiedKFold\n",
    "from sklearn.model_selection import cross_validate"
   ]
  },
  {
   "cell_type": "code",
   "execution_count": 3,
   "id": "61501850",
   "metadata": {},
   "outputs": [],
   "source": [
    "# 깨짐 방지를 위한 Font 지정\n",
    "import os\n",
    "if os.name =='nt' : \n",
    "    font_family = \"Malgun Gothic\"\n",
    "else :\n",
    "    font_family = \"AppleGothic\"\n",
    "\n",
    "# 값이 깨지는 문제 해결을 위해 파라미터값 설정\n",
    "sns.set(font=font_family, rc = {\"axes.unicode_minus\" : False})"
   ]
  },
  {
   "cell_type": "code",
   "execution_count": 4,
   "id": "fd8c7cd1",
   "metadata": {},
   "outputs": [],
   "source": [
    "# 불균형 데이터에 처리에따른 랜덤포레스트 결과 확인 함수 생성\n",
    "def Randomforest_Result(x, y, title):\n",
    "    \n",
    "    rf = RandomForestClassifier(criterion='entropy')\n",
    "    cv_rf = RepeatedStratifiedKFold(n_splits=10, n_repeats=3, random_state=1)\n",
    "    \n",
    "    scores = cross_validate(rf, x, y, scoring= 'f1', cv=cv_rf, n_jobs=-1)\n",
    "    print(title, ':', '3-Fold CV f1 score : %.4f' % np.mean(scores['test_score']))\n",
    "    \n",
    "    return"
   ]
  },
  {
   "cell_type": "code",
   "execution_count": null,
   "id": "4d5c1cc4",
   "metadata": {},
   "outputs": [],
   "source": [
    "''' Under Sampling '''"
   ]
  },
  {
   "cell_type": "code",
   "execution_count": 7,
   "id": "93b7d8da",
   "metadata": {},
   "outputs": [
    {
     "name": "stdout",
     "output_type": "stream",
     "text": [
      "(10000, 20)\n"
     ]
    },
    {
     "data": {
      "text/plain": [
       "(10000,)"
      ]
     },
     "execution_count": 7,
     "metadata": {},
     "output_type": "execute_result"
    }
   ],
   "source": [
    "# 데이터셋 준비 및 확인\n",
    "X_data, y_class = make_classification (n_classes=2, class_sep=1, n_samples=10000,\n",
    "                                      n_features=20, weights=[0.9, 0.1], flip_y=0,\n",
    "                                      n_clusters_per_class=1, random_state=10)\n",
    "print(X_data.shape)\n",
    "y_class.shape"
   ]
  },
  {
   "cell_type": "code",
   "execution_count": 12,
   "id": "cde7115e",
   "metadata": {},
   "outputs": [],
   "source": [
    "# count_and_plot 그리기 함수\n",
    "from collections import Counter\n",
    "from matplotlib import pyplot\n",
    "def count_and_plot(y):\n",
    "    counter = Counter(y)\n",
    "    for k,v in counter.items():\n",
    "        print('Class=%d, n=%d (%.3f%%)'%(k,v,v / len(y) * 100))\n",
    "    pyplot.bar(counter.keys(), counter.values())\n",
    "    pyplot.show()"
   ]
  },
  {
   "cell_type": "code",
   "execution_count": 13,
   "id": "5792df0c",
   "metadata": {},
   "outputs": [
    {
     "name": "stdout",
     "output_type": "stream",
     "text": [
      "Class=0, n=9000 (90.000%)\n",
      "Class=1, n=1000 (10.000%)\n"
     ]
    },
    {
     "data": {
      "image/png": "[encoded data removed]",
      "text/plain": [
       "<Figure size 360x216 with 1 Axes>"
      ]
     },
     "metadata": {},
     "output_type": "display_data"
    }
   ],
   "source": [
    "# 데이터셋 가시화\n",
    "plt.figure(figsize = (5,3))\n",
    "count_and_plot(y_class)"
   ]
  },
  {
   "cell_type": "code",
   "execution_count": 14,
   "id": "6d758f5f",
   "metadata": {},
   "outputs": [
    {
     "name": "stdout",
     "output_type": "stream",
     "text": [
      "언더 샘플링_원본 데이터 결과 : 3-Fold CV f1 score : 0.8225\n"
     ]
    }
   ],
   "source": [
    "Randomforest_Result(X_data, y_class, \"언더 샘플링_원본 데이터 결과\")"
   ]
  },
  {
   "cell_type": "code",
   "execution_count": 16,
   "id": "b630c590",
   "metadata": {},
   "outputs": [],
   "source": [
    "# sampling_strategy\n",
    "# - 'majority' (소수 집단과 동일하게 샘플링)\n",
    "# - 0과 1사이의 숫자를 지정한다. (소수집단 데이터 수 / 다수 집단 데이터 수) 샘플링\n",
    "under_random = RandomUnderSampler(sampling_strategy='majority')\n",
    "X_random, y_random = under_random.fit_resample(X_data, y_class)"
   ]
  },
  {
   "cell_type": "code",
   "execution_count": 17,
   "id": "a273ab38",
   "metadata": {},
   "outputs": [
    {
     "name": "stdout",
     "output_type": "stream",
     "text": [
      "Class=0, n=1000 (50.000%)\n",
      "Class=1, n=1000 (50.000%)\n"
     ]
    },
    {
     "data": {
      "image/png": "[encoded data removed]",
      "text/plain": [
       "<Figure size 360x216 with 1 Axes>"
      ]
     },
     "metadata": {},
     "output_type": "display_data"
    }
   ],
   "source": [
    "plt.figure(figsize = (5,3))\n",
    "count_and_plot(y_random)"
   ]
  },
  {
   "cell_type": "code",
   "execution_count": 18,
   "id": "f815c51c",
   "metadata": {},
   "outputs": [
    {
     "name": "stdout",
     "output_type": "stream",
     "text": [
      "언더 샘플링_램던언더 샘플링_데이터결과 : 3-Fold CV f1 score : 0.9174\n"
     ]
    }
   ],
   "source": [
    "Randomforest_Result(X_random, y_random, \"언더 샘플링_램던언더 샘플링_데이터결과\")"
   ]
  },
  {
   "cell_type": "code",
   "execution_count": 20,
   "id": "0a23e9b4",
   "metadata": {},
   "outputs": [],
   "source": [
    "# sampling_strategy\n",
    "# 0과 1 사이의 숫자를 지정(소수집단 데이터수 / 다수 집단 데이터수) 하여 샘플링\n",
    "under_random_05 = RandomUnderSampler(sampling_strategy = 0.5)\n",
    "X_random_05, y_random_05 = under_random_05.fit_resample(X_data, y_class)"
   ]
  },
  {
   "cell_type": "code",
   "execution_count": 21,
   "id": "02bee07d",
   "metadata": {},
   "outputs": [
    {
     "name": "stdout",
     "output_type": "stream",
     "text": [
      "Class=0, n=2000 (66.667%)\n",
      "Class=1, n=1000 (33.333%)\n"
     ]
    },
    {
     "data": {
      "image/png": "[encoded data removed]",
      "text/plain": [
       "<Figure size 360x216 with 1 Axes>"
      ]
     },
     "metadata": {},
     "output_type": "display_data"
    }
   ],
   "source": [
    "plt.figure(figsize = (5,3))\n",
    "count_and_plot(y_random_05)"
   ]
  },
  {
   "cell_type": "code",
   "execution_count": 26,
   "id": "e225d206",
   "metadata": {},
   "outputs": [
    {
     "name": "stdout",
     "output_type": "stream",
     "text": [
      "언더 샘플링_랜덤언더 샘플링_비율 :0.5_데이터결과 : 3-Fold CV f1 score : 0.8883\n"
     ]
    }
   ],
   "source": [
    "Randomforest_Result(X_random_05, y_random_05, \"언더 샘플링_랜덤언더 샘플링_비율 :0.5_데이터결과\")"
   ]
  },
  {
   "cell_type": "code",
   "execution_count": 27,
   "id": "e5d437fa",
   "metadata": {},
   "outputs": [],
   "source": [
    "# 토멕링크\n",
    "tl = TomekLinks()\n",
    "X_tl, y_tl = tl.fit_resample(X_data, y_class)"
   ]
  },
  {
   "cell_type": "code",
   "execution_count": 28,
   "id": "cbd38e56",
   "metadata": {},
   "outputs": [
    {
     "name": "stdout",
     "output_type": "stream",
     "text": [
      "Class=0, n=8903 (89.902%)\n",
      "Class=1, n=1000 (10.098%)\n"
     ]
    },
    {
     "data": {
      "image/png": "[encoded data removed]",
      "text/plain": [
       "<Figure size 360x216 with 1 Axes>"
      ]
     },
     "metadata": {},
     "output_type": "display_data"
    }
   ],
   "source": [
    "plt.figure(figsize = (5,3))\n",
    "count_and_plot(y_tl)"
   ]
  },
  {
   "cell_type": "code",
   "execution_count": 29,
   "id": "b9360a17",
   "metadata": {},
   "outputs": [
    {
     "name": "stdout",
     "output_type": "stream",
     "text": [
      "언더 샘플링_토멕링크_데이터결과 : 3-Fold CV f1 score : 0.8284\n"
     ]
    }
   ],
   "source": [
    "Randomforest_Result(X_tl, y_tl, \"언더 샘플링_토멕링크_데이터결과\")"
   ]
  },
  {
   "cell_type": "code",
   "execution_count": 30,
   "id": "429e9d8b",
   "metadata": {},
   "outputs": [],
   "source": [
    "#OSS (OneSidedSelection)\n",
    "oss = OneSidedSelection(random_state=42)\n",
    "X_oss, y_oss = oss.fit_resample(X_data,y_class)"
   ]
  },
  {
   "cell_type": "code",
   "execution_count": 31,
   "id": "39004e64",
   "metadata": {},
   "outputs": [
    {
     "name": "stdout",
     "output_type": "stream",
     "text": [
      "Class=0, n=8771 (89.766%)\n",
      "Class=1, n=1000 (10.234%)\n"
     ]
    },
    {
     "data": {
      "image/png": "[encoded data removed]",
      "text/plain": [
       "<Figure size 360x216 with 1 Axes>"
      ]
     },
     "metadata": {},
     "output_type": "display_data"
    }
   ],
   "source": [
    "plt.figure(figsize = (5,3))\n",
    "count_and_plot(y_oss)"
   ]
  },
  {
   "cell_type": "code",
   "execution_count": 32,
   "id": "ae80ea10",
   "metadata": {},
   "outputs": [
    {
     "name": "stdout",
     "output_type": "stream",
     "text": [
      "언더 샘플링_OSS_데이터 결과 : 3-Fold CV f1 score : 0.8320\n"
     ]
    }
   ],
   "source": [
    "Randomforest_Result(X_oss, y_oss, \"언더 샘플링_OSS_데이터 결과\")"
   ]
  },
  {
   "cell_type": "code",
   "execution_count": 33,
   "id": "bb1f44cf",
   "metadata": {},
   "outputs": [],
   "source": [
    "# 데이터셋 준비 및 확인\n",
    "X_data, y_class = make_classification(n_classes=2, class_sep=2,  n_samples=10000,\n",
    "                                     n_features=20, weights=[0.9,0.1], flip_y=0,\n",
    "                                     n_clusters_per_class=1, random_state=10)"
   ]
  },
  {
   "cell_type": "code",
   "execution_count": 34,
   "id": "9d9957e9",
   "metadata": {},
   "outputs": [
    {
     "name": "stdout",
     "output_type": "stream",
     "text": [
      "(10000, 20)\n",
      "Class=0, n=9000 (90.000%)\n",
      "Class=1, n=1000 (10.000%)\n"
     ]
    },
    {
     "data": {
      "image/png": "[encoded data removed]",
      "text/plain": [
       "<Figure size 360x288 with 1 Axes>"
      ]
     },
     "metadata": {},
     "output_type": "display_data"
    }
   ],
   "source": [
    "print(X_data.shape)\n",
    "y_class.shape\n",
    "\n",
    "plt.figure(figsize= (5,4))\n",
    "count_and_plot(y_class)"
   ]
  },
  {
   "cell_type": "code",
   "execution_count": 36,
   "id": "3132910a",
   "metadata": {},
   "outputs": [
    {
     "name": "stdout",
     "output_type": "stream",
     "text": [
      "언더 샘플링_원본_데이터 결과 : 3-Fold CV f1 score : 0.9891\n"
     ]
    }
   ],
   "source": [
    "Randomforest_Result(X_data, y_class, \"오버 샘플링_원본_데이터 결과\")"
   ]
  },
  {
   "cell_type": "code",
   "execution_count": 37,
   "id": "8b434efd",
   "metadata": {},
   "outputs": [],
   "source": [
    "# Randomoversampling\n",
    "# 랜덤 오버 샘플링\n",
    "ros = RandomOverSampler(random_state=42)\n",
    "X_ros, y_ros = ros.fit_resample(X_data, y_class)"
   ]
  },
  {
   "cell_type": "code",
   "execution_count": 38,
   "id": "4e782860",
   "metadata": {},
   "outputs": [
    {
     "name": "stdout",
     "output_type": "stream",
     "text": [
      "Class=0, n=9000 (50.000%)\n",
      "Class=1, n=9000 (50.000%)\n"
     ]
    },
    {
     "data": {
      "image/png": "[encoded data removed]",
      "text/plain": [
       "<Figure size 360x216 with 1 Axes>"
      ]
     },
     "metadata": {},
     "output_type": "display_data"
    }
   ],
   "source": [
    "plt.figure(figsize = (5,3))\n",
    "count_and_plot(y_ros)"
   ]
  },
  {
   "cell_type": "code",
   "execution_count": 39,
   "id": "28c5b774",
   "metadata": {},
   "outputs": [
    {
     "name": "stdout",
     "output_type": "stream",
     "text": [
      "오버 샘플링_랜덤오버샘플링_데이터 결과 : 3-Fold CV f1 score : 0.8282\n"
     ]
    }
   ],
   "source": [
    "Randomforest_Result(X_oss, y_oss, \"오버 샘플링_랜덤오버샘플링_데이터 결과\")"
   ]
  },
  {
   "cell_type": "code",
   "execution_count": 40,
   "id": "89299835",
   "metadata": {},
   "outputs": [],
   "source": [
    "# SMOTE\n",
    "smote = SMOTE()\n",
    "X_sm, y_sm = smote.fit_resample(X_data, y_class)\n"
   ]
  },
  {
   "cell_type": "code",
   "execution_count": 41,
   "id": "1c2c9dfa",
   "metadata": {},
   "outputs": [
    {
     "name": "stdout",
     "output_type": "stream",
     "text": [
      "Class=0, n=9000 (50.000%)\n",
      "Class=1, n=9000 (50.000%)\n"
     ]
    },
    {
     "data": {
      "image/png": "[encoded data removed]",
      "text/plain": [
       "<Figure size 360x216 with 1 Axes>"
      ]
     },
     "metadata": {},
     "output_type": "display_data"
    }
   ],
   "source": [
    "plt.figure(figsize = (5,3))\n",
    "count_and_plot(y_sm)"
   ]
  },
  {
   "cell_type": "code",
   "execution_count": 42,
   "id": "b6b77ee4",
   "metadata": {},
   "outputs": [
    {
     "name": "stdout",
     "output_type": "stream",
     "text": [
      "오버 샘플링_SMOTE_데이터 결과 : 3-Fold CV f1 score : 0.9988\n"
     ]
    }
   ],
   "source": [
    "Randomforest_Result(X_sm, y_sm, \"오버 샘플링_SMOTE_데이터 결과\")"
   ]
  },
  {
   "cell_type": "code",
   "execution_count": 43,
   "id": "6fe7add1",
   "metadata": {},
   "outputs": [],
   "source": [
    "# ADASYN\n",
    "ada = ADASYN(random_state = 42)\n",
    "X_ada, y_ada = ada.fit_resample(X_data, y_class)"
   ]
  },
  {
   "cell_type": "code",
   "execution_count": 44,
   "id": "013191b8",
   "metadata": {},
   "outputs": [
    {
     "name": "stdout",
     "output_type": "stream",
     "text": [
      "Class=0, n=9000 (49.972%)\n",
      "Class=1, n=9010 (50.028%)\n"
     ]
    },
    {
     "data": {
      "image/png": "[encoded data removed]",
      "text/plain": [
       "<Figure size 360x216 with 1 Axes>"
      ]
     },
     "metadata": {},
     "output_type": "display_data"
    }
   ],
   "source": [
    "plt.figure(figsize = (5,3))\n",
    "count_and_plot(y_ada)"
   ]
  },
  {
   "cell_type": "code",
   "execution_count": 45,
   "id": "c85c0fcc",
   "metadata": {},
   "outputs": [
    {
     "name": "stdout",
     "output_type": "stream",
     "text": [
      "오버 샘플링_ADASYN_데이터 결과 : 3-Fold CV f1 score : 0.9988\n"
     ]
    }
   ],
   "source": [
    "Randomforest_Result(X_ada, y_ada, \"오버 샘플링_ADASYN_데이터 결과\")"
   ]
  },
  {
   "cell_type": "code",
   "execution_count": 47,
   "id": "a9a52e37",
   "metadata": {},
   "outputs": [],
   "source": [
    "# Borderline SMOTE\n",
    "bor_sm = BorderlineSMOTE(random_state=42)\n",
    "X_bor_sm, y_bor_sm = bor_sm.fit_resample(X_data, y_class)"
   ]
  },
  {
   "cell_type": "code",
   "execution_count": 48,
   "id": "4f23ee70",
   "metadata": {},
   "outputs": [
    {
     "name": "stdout",
     "output_type": "stream",
     "text": [
      "Class=0, n=9000 (50.000%)\n",
      "Class=1, n=9000 (50.000%)\n"
     ]
    },
    {
     "data": {
      "image/png": "[encoded data removed]",
      "text/plain": [
       "<Figure size 360x216 with 1 Axes>"
      ]
     },
     "metadata": {},
     "output_type": "display_data"
    }
   ],
   "source": [
    "plt.figure(figsize = (5,3))\n",
    "count_and_plot(y_bor_sm)"
   ]
  },
  {
   "cell_type": "code",
   "execution_count": 49,
   "id": "0878c630",
   "metadata": {},
   "outputs": [
    {
     "name": "stdout",
     "output_type": "stream",
     "text": [
      "오버 샘플링_Boderline SMOTE_데이터 결과 : 3-Fold CV f1 score : 0.9987\n"
     ]
    }
   ],
   "source": [
    "Randomforest_Result(X_bor_sm, y_bor_sm, \"오버 샘플링_Boderline SMOTE_데이터 결과\")"
   ]
  },
  {
   "cell_type": "code",
   "execution_count": null,
   "id": "3183d59f",
   "metadata": {},
   "outputs": [],
   "source": []
  }
 ],
 "metadata": {
  "kernelspec": {
   "display_name": "Python 3 (ipykernel)",
   "language": "python",
   "name": "python3"
  },
  "language_info": {
   "codemirror_mode": {
    "name": "ipython",
    "version": 3
   },
   "file_extension": ".py",
   "mimetype": "text/x-python",
   "name": "python",
   "nbconvert_exporter": "python",
   "pygments_lexer": "ipython3",
   "version": "3.9.12"
  }
 },
 "nbformat": 4,
 "nbformat_minor": 5
}
