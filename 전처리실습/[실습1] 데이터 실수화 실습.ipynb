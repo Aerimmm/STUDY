{
 "cells": [
  {
   "cell_type": "code",
   "execution_count": 1,
   "id": "803b3ee6",
   "metadata": {},
   "outputs": [],
   "source": [
    "# 범주형 데이터 실수화\n",
    "\n",
    "import pandas as pd # pandas package import"
   ]
  },
  {
   "cell_type": "code",
   "execution_count": 4,
   "id": "9413330a",
   "metadata": {},
   "outputs": [],
   "source": [
    "from sklearn.preprocessing import LabelEncoder # 범주형 데이터\n",
    "from sklearn.preprocessing import OneHotEncoder # 더미변수 생성, 가변환 함수 임포트"
   ]
  },
  {
   "cell_type": "code",
   "execution_count": 90,
   "id": "604f045c",
   "metadata": {},
   "outputs": [],
   "source": [
    "# 데이터 set 생성\n",
    "x_train = pd.DataFrame([\"남성\", '여성', '남성', '여성', '남성', '여성'], columns = ['성별'])"
   ]
  },
  {
   "cell_type": "code",
   "execution_count": 91,
   "id": "2d370b94",
   "metadata": {},
   "outputs": [
    {
     "data": {
      "text/html": [
       "<div>\n",
       "<style scoped>\n",
       "    .dataframe tbody tr th:only-of-type {\n",
       "        vertical-align: middle;\n",
       "    }\n",
       "\n",
       "    .dataframe tbody tr th {\n",
       "        vertical-align: top;\n",
       "    }\n",
       "\n",
       "    .dataframe thead th {\n",
       "        text-align: right;\n",
       "    }\n",
       "</style>\n",
       "<table border=\"1\" class=\"dataframe\">\n",
       "  <thead>\n",
       "    <tr style=\"text-align: right;\">\n",
       "      <th></th>\n",
       "      <th>성별</th>\n",
       "    </tr>\n",
       "  </thead>\n",
       "  <tbody>\n",
       "    <tr>\n",
       "      <th>0</th>\n",
       "      <td>남성</td>\n",
       "    </tr>\n",
       "    <tr>\n",
       "      <th>1</th>\n",
       "      <td>여성</td>\n",
       "    </tr>\n",
       "    <tr>\n",
       "      <th>2</th>\n",
       "      <td>남성</td>\n",
       "    </tr>\n",
       "    <tr>\n",
       "      <th>3</th>\n",
       "      <td>여성</td>\n",
       "    </tr>\n",
       "    <tr>\n",
       "      <th>4</th>\n",
       "      <td>남성</td>\n",
       "    </tr>\n",
       "  </tbody>\n",
       "</table>\n",
       "</div>"
      ],
      "text/plain": [
       "   성별\n",
       "0  남성\n",
       "1  여성\n",
       "2  남성\n",
       "3  여성\n",
       "4  남성"
      ]
     },
     "execution_count": 91,
     "metadata": {},
     "output_type": "execute_result"
    }
   ],
   "source": [
    "# 데이터 확인\n",
    "x_train.head(5)"
   ]
  },
  {
   "cell_type": "code",
   "execution_count": 92,
   "id": "c3a11d28",
   "metadata": {},
   "outputs": [
    {
     "name": "stdout",
     "output_type": "stream",
     "text": [
      "<class 'pandas.core.frame.DataFrame'>\n",
      "RangeIndex: 6 entries, 0 to 5\n",
      "Data columns (total 1 columns):\n",
      " #   Column  Non-Null Count  Dtype \n",
      "---  ------  --------------  ----- \n",
      " 0   성별      6 non-null      object\n",
      "dtypes: object(1)\n",
      "memory usage: 176.0+ bytes\n"
     ]
    }
   ],
   "source": [
    "x_train.info() # 데이터 프레임의 정보를 확인한다. \n",
    "# object 타입 '성별' 변수."
   ]
  },
  {
   "cell_type": "code",
   "execution_count": 93,
   "id": "7f82bb0f",
   "metadata": {},
   "outputs": [
    {
     "data": {
      "text/plain": [
       "남성    3\n",
       "여성    3\n",
       "Name: 성별, dtype: int64"
      ]
     },
     "execution_count": 93,
     "metadata": {},
     "output_type": "execute_result"
    }
   ],
   "source": [
    "x_train['성별'].value_counts() # 범주형 데이터의 갯수 확인"
   ]
  },
  {
   "cell_type": "markdown",
   "id": "8810eeaa",
   "metadata": {},
   "source": [
    "### 레이블 인코딩 : 문자를 0 부터 시작하는 정수형 숫자로 변환'"
   ]
  },
  {
   "cell_type": "code",
   "execution_count": 95,
   "id": "90e615b3",
   "metadata": {},
   "outputs": [],
   "source": [
    "# 레이블 인코더 생성\n",
    "encoding = LabelEncoder()"
   ]
  },
  {
   "cell_type": "code",
   "execution_count": 96,
   "id": "8441f8fd",
   "metadata": {},
   "outputs": [],
   "source": [
    "# x_train 데이터를 이용하여 피팅하고 레이블 숫자로 변환\n",
    "encoding.fit(x_train['성별'])\n",
    "x_train[\"성별_인코딩\"] = encoding.transform(x_train['성별'])"
   ]
  },
  {
   "cell_type": "code",
   "execution_count": 97,
   "id": "06653c71",
   "metadata": {},
   "outputs": [
    {
     "data": {
      "text/html": [
       "<div>\n",
       "<style scoped>\n",
       "    .dataframe tbody tr th:only-of-type {\n",
       "        vertical-align: middle;\n",
       "    }\n",
       "\n",
       "    .dataframe tbody tr th {\n",
       "        vertical-align: top;\n",
       "    }\n",
       "\n",
       "    .dataframe thead th {\n",
       "        text-align: right;\n",
       "    }\n",
       "</style>\n",
       "<table border=\"1\" class=\"dataframe\">\n",
       "  <thead>\n",
       "    <tr style=\"text-align: right;\">\n",
       "      <th></th>\n",
       "      <th>성별</th>\n",
       "      <th>성별_인코딩</th>\n",
       "    </tr>\n",
       "  </thead>\n",
       "  <tbody>\n",
       "    <tr>\n",
       "      <th>0</th>\n",
       "      <td>남성</td>\n",
       "      <td>0</td>\n",
       "    </tr>\n",
       "    <tr>\n",
       "      <th>1</th>\n",
       "      <td>여성</td>\n",
       "      <td>1</td>\n",
       "    </tr>\n",
       "    <tr>\n",
       "      <th>2</th>\n",
       "      <td>남성</td>\n",
       "      <td>0</td>\n",
       "    </tr>\n",
       "    <tr>\n",
       "      <th>3</th>\n",
       "      <td>여성</td>\n",
       "      <td>1</td>\n",
       "    </tr>\n",
       "    <tr>\n",
       "      <th>4</th>\n",
       "      <td>남성</td>\n",
       "      <td>0</td>\n",
       "    </tr>\n",
       "    <tr>\n",
       "      <th>5</th>\n",
       "      <td>여성</td>\n",
       "      <td>1</td>\n",
       "    </tr>\n",
       "  </tbody>\n",
       "</table>\n",
       "</div>"
      ],
      "text/plain": [
       "   성별  성별_인코딩\n",
       "0  남성       0\n",
       "1  여성       1\n",
       "2  남성       0\n",
       "3  여성       1\n",
       "4  남성       0\n",
       "5  여성       1"
      ]
     },
     "execution_count": 97,
     "metadata": {},
     "output_type": "execute_result"
    }
   ],
   "source": [
    "x_train # 인코딩 결과값 확인"
   ]
  },
  {
   "cell_type": "code",
   "execution_count": 98,
   "id": "efc1154d",
   "metadata": {},
   "outputs": [
    {
     "name": "stdout",
     "output_type": "stream",
     "text": [
      "['남성', '여성']\n",
      "['여성', '남성']\n"
     ]
    }
   ],
   "source": [
    "print(list(encoding.classes_)) #클래스 확인\n",
    "print(list(encoding.inverse_transform([1,0]))) # 인코딩 값으로 문자값 확인"
   ]
  },
  {
   "cell_type": "code",
   "execution_count": 99,
   "id": "9427f99d",
   "metadata": {},
   "outputs": [
    {
     "name": "stdout",
     "output_type": "stream",
     "text": [
      "['여성', '남성']\n"
     ]
    }
   ],
   "source": [
    "print(list(encoding.inverse_transform([1,0]))) # 인코딩 값으로 문자값 확인"
   ]
  },
  {
   "cell_type": "code",
   "execution_count": 100,
   "id": "20642c58",
   "metadata": {},
   "outputs": [
    {
     "data": {
      "text/plain": [
       "' 원핫 인코딩 '"
      ]
     },
     "execution_count": 100,
     "metadata": {},
     "output_type": "execute_result"
    }
   ],
   "source": [
    "''' 원핫 인코딩 '''"
   ]
  },
  {
   "cell_type": "code",
   "execution_count": 101,
   "id": "638eae93",
   "metadata": {},
   "outputs": [
    {
     "data": {
      "text/html": [
       "<div>\n",
       "<style scoped>\n",
       "    .dataframe tbody tr th:only-of-type {\n",
       "        vertical-align: middle;\n",
       "    }\n",
       "\n",
       "    .dataframe tbody tr th {\n",
       "        vertical-align: top;\n",
       "    }\n",
       "\n",
       "    .dataframe thead th {\n",
       "        text-align: right;\n",
       "    }\n",
       "</style>\n",
       "<table border=\"1\" class=\"dataframe\">\n",
       "  <thead>\n",
       "    <tr style=\"text-align: right;\">\n",
       "      <th></th>\n",
       "      <th>성별</th>\n",
       "      <th>성별_인코딩</th>\n",
       "    </tr>\n",
       "  </thead>\n",
       "  <tbody>\n",
       "    <tr>\n",
       "      <th>0</th>\n",
       "      <td>남성</td>\n",
       "      <td>0</td>\n",
       "    </tr>\n",
       "    <tr>\n",
       "      <th>1</th>\n",
       "      <td>여성</td>\n",
       "      <td>1</td>\n",
       "    </tr>\n",
       "  </tbody>\n",
       "</table>\n",
       "</div>"
      ],
      "text/plain": [
       "   성별  성별_인코딩\n",
       "0  남성       0\n",
       "1  여성       1"
      ]
     },
     "execution_count": 101,
     "metadata": {},
     "output_type": "execute_result"
    }
   ],
   "source": [
    "x_train.head(2) # 데이터 확인"
   ]
  },
  {
   "cell_type": "code",
   "execution_count": 102,
   "id": "99d00d62",
   "metadata": {},
   "outputs": [],
   "source": [
    "# 원핫 인코더 생성\n",
    "# sparse 를 True 로 할 경우 \" (행, 열) 1\" 의 좌표리스트의 형식, False 의 경우 넘파이 배열로 변환\n",
    "one_encoding = OneHotEncoder (sparse = False) # 넘파이 배열로 변환"
   ]
  },
  {
   "cell_type": "code",
   "execution_count": 103,
   "id": "6df24b82",
   "metadata": {},
   "outputs": [
    {
     "data": {
      "text/plain": [
       "OneHotEncoder(sparse=False)"
      ]
     },
     "execution_count": 103,
     "metadata": {},
     "output_type": "execute_result"
    }
   ],
   "source": [
    "# X_trian 데이터를 이용하여 피팅\n",
    "one_encoding.fit(x_train[['성별']])"
   ]
  },
  {
   "cell_type": "code",
   "execution_count": 104,
   "id": "f01e5200",
   "metadata": {},
   "outputs": [
    {
     "data": {
      "text/plain": [
       "array([[1., 0.],\n",
       "       [0., 1.],\n",
       "       [1., 0.],\n",
       "       [0., 1.],\n",
       "       [1., 0.],\n",
       "       [0., 1.]])"
      ]
     },
     "execution_count": 104,
     "metadata": {},
     "output_type": "execute_result"
    }
   ],
   "source": [
    "# 가변환값 변환\n",
    "one_encoding.transform(x_train[['성별']])"
   ]
  },
  {
   "cell_type": "code",
   "execution_count": 105,
   "id": "608d2212",
   "metadata": {},
   "outputs": [
    {
     "data": {
      "text/plain": [
       "array([[1., 0.],\n",
       "       [0., 1.],\n",
       "       [1., 0.],\n",
       "       [0., 1.],\n",
       "       [1., 0.],\n",
       "       [0., 1.]])"
      ]
     },
     "execution_count": 105,
     "metadata": {},
     "output_type": "execute_result"
    }
   ],
   "source": [
    "one_encoding.fit_transform(x_train[['성별']]) # 피팅"
   ]
  },
  {
   "cell_type": "code",
   "execution_count": 106,
   "id": "428171c8",
   "metadata": {},
   "outputs": [
    {
     "name": "stdout",
     "output_type": "stream",
     "text": [
      "['x0_남성' 'x0_여성']\n"
     ]
    },
    {
     "name": "stderr",
     "output_type": "stream",
     "text": [
      "C:\\Users\\user\\anaconda3\\lib\\site-packages\\sklearn\\utils\\deprecation.py:87: FutureWarning: Function get_feature_names is deprecated; get_feature_names is deprecated in 1.0 and will be removed in 1.2. Please use get_feature_names_out instead.\n",
      "  warnings.warn(msg, category=FutureWarning)\n"
     ]
    }
   ],
   "source": [
    "# 가변환된 피쳐 확인\n",
    "print(one_encoding.get_feature_names())"
   ]
  },
  {
   "cell_type": "code",
   "execution_count": 109,
   "id": "6f66ac75",
   "metadata": {},
   "outputs": [
    {
     "data": {
      "text/html": [
       "<div>\n",
       "<style scoped>\n",
       "    .dataframe tbody tr th:only-of-type {\n",
       "        vertical-align: middle;\n",
       "    }\n",
       "\n",
       "    .dataframe tbody tr th {\n",
       "        vertical-align: top;\n",
       "    }\n",
       "\n",
       "    .dataframe thead th {\n",
       "        text-align: right;\n",
       "    }\n",
       "</style>\n",
       "<table border=\"1\" class=\"dataframe\">\n",
       "  <thead>\n",
       "    <tr style=\"text-align: right;\">\n",
       "      <th></th>\n",
       "      <th>성별0</th>\n",
       "      <th>성별1</th>\n",
       "    </tr>\n",
       "  </thead>\n",
       "  <tbody>\n",
       "    <tr>\n",
       "      <th>0</th>\n",
       "      <td>1.0</td>\n",
       "      <td>0.0</td>\n",
       "    </tr>\n",
       "    <tr>\n",
       "      <th>1</th>\n",
       "      <td>0.0</td>\n",
       "      <td>1.0</td>\n",
       "    </tr>\n",
       "    <tr>\n",
       "      <th>2</th>\n",
       "      <td>1.0</td>\n",
       "      <td>0.0</td>\n",
       "    </tr>\n",
       "    <tr>\n",
       "      <th>3</th>\n",
       "      <td>0.0</td>\n",
       "      <td>1.0</td>\n",
       "    </tr>\n",
       "    <tr>\n",
       "      <th>4</th>\n",
       "      <td>1.0</td>\n",
       "      <td>0.0</td>\n",
       "    </tr>\n",
       "    <tr>\n",
       "      <th>5</th>\n",
       "      <td>0.0</td>\n",
       "      <td>1.0</td>\n",
       "    </tr>\n",
       "  </tbody>\n",
       "</table>\n",
       "</div>"
      ],
      "text/plain": [
       "   성별0  성별1\n",
       "0  1.0  0.0\n",
       "1  0.0  1.0\n",
       "2  1.0  0.0\n",
       "3  0.0  1.0\n",
       "4  1.0  0.0\n",
       "5  0.0  1.0"
      ]
     },
     "execution_count": 109,
     "metadata": {},
     "output_type": "execute_result"
    }
   ],
   "source": [
    "# 가변환된 값을 x_train_one 데이터 프레임으로 저장한다\n",
    "x_train_one = pd.DataFrame(one_encoding.transform(x_train[['성별']]),columns = ['성별0','성별1'])\n",
    "x_train_one"
   ]
  },
  {
   "cell_type": "code",
   "execution_count": 110,
   "id": "d9b53ff3",
   "metadata": {},
   "outputs": [],
   "source": [
    "# x_train 데이터와 x_train_one 의 가변환된 속성을 합친다.\n",
    "x_train = pd.concat([x_train,x_train_one], axis = 1)"
   ]
  },
  {
   "cell_type": "code",
   "execution_count": 112,
   "id": "aed3f5c7",
   "metadata": {},
   "outputs": [
    {
     "data": {
      "text/html": [
       "<div>\n",
       "<style scoped>\n",
       "    .dataframe tbody tr th:only-of-type {\n",
       "        vertical-align: middle;\n",
       "    }\n",
       "\n",
       "    .dataframe tbody tr th {\n",
       "        vertical-align: top;\n",
       "    }\n",
       "\n",
       "    .dataframe thead th {\n",
       "        text-align: right;\n",
       "    }\n",
       "</style>\n",
       "<table border=\"1\" class=\"dataframe\">\n",
       "  <thead>\n",
       "    <tr style=\"text-align: right;\">\n",
       "      <th></th>\n",
       "      <th>성별</th>\n",
       "      <th>성별_인코딩</th>\n",
       "      <th>성별0</th>\n",
       "      <th>성별1</th>\n",
       "    </tr>\n",
       "  </thead>\n",
       "  <tbody>\n",
       "    <tr>\n",
       "      <th>0</th>\n",
       "      <td>남성</td>\n",
       "      <td>0</td>\n",
       "      <td>1.0</td>\n",
       "      <td>0.0</td>\n",
       "    </tr>\n",
       "    <tr>\n",
       "      <th>1</th>\n",
       "      <td>여성</td>\n",
       "      <td>1</td>\n",
       "      <td>0.0</td>\n",
       "      <td>1.0</td>\n",
       "    </tr>\n",
       "    <tr>\n",
       "      <th>2</th>\n",
       "      <td>남성</td>\n",
       "      <td>0</td>\n",
       "      <td>1.0</td>\n",
       "      <td>0.0</td>\n",
       "    </tr>\n",
       "    <tr>\n",
       "      <th>3</th>\n",
       "      <td>여성</td>\n",
       "      <td>1</td>\n",
       "      <td>0.0</td>\n",
       "      <td>1.0</td>\n",
       "    </tr>\n",
       "    <tr>\n",
       "      <th>4</th>\n",
       "      <td>남성</td>\n",
       "      <td>0</td>\n",
       "      <td>1.0</td>\n",
       "      <td>0.0</td>\n",
       "    </tr>\n",
       "  </tbody>\n",
       "</table>\n",
       "</div>"
      ],
      "text/plain": [
       "   성별  성별_인코딩  성별0  성별1\n",
       "0  남성       0  1.0  0.0\n",
       "1  여성       1  0.0  1.0\n",
       "2  남성       0  1.0  0.0\n",
       "3  여성       1  0.0  1.0\n",
       "4  남성       0  1.0  0.0"
      ]
     },
     "execution_count": 112,
     "metadata": {},
     "output_type": "execute_result"
    }
   ],
   "source": [
    "x_train.head()"
   ]
  },
  {
   "cell_type": "code",
   "execution_count": null,
   "id": "f442e2b1",
   "metadata": {},
   "outputs": [],
   "source": [
    "''' 데이터 정제 - 텍스트 데이터 실수화 '''"
   ]
  },
  {
   "cell_type": "code",
   "execution_count": 47,
   "id": "2bdfe225",
   "metadata": {},
   "outputs": [],
   "source": [
    "from sklearn.feature_extraction.text import CountVectorizer"
   ]
  },
  {
   "cell_type": "code",
   "execution_count": 48,
   "id": "c90bea43",
   "metadata": {},
   "outputs": [],
   "source": [
    "corpus = [\n",
    "            '청년 인재 개발 양성 과정',\n",
    "            ' 인공지능 청년 양성' ,\n",
    "            ' 미래 인공지능  데이터 대한민국',\n",
    "            ' 데이터 원유  기술사 청년 개발'\n",
    "    \n",
    "            ]"
   ]
  },
  {
   "cell_type": "code",
   "execution_count": 49,
   "id": "3ef3b3fd",
   "metadata": {},
   "outputs": [
    {
     "data": {
      "text/plain": [
       "['청년 인재 개발 양성 과정', ' 인공지능 청년 양성', ' 미래 인공지능  데이터 대한민국', ' 데이터 원유  기술사 청년 개발']"
      ]
     },
     "execution_count": 49,
     "metadata": {},
     "output_type": "execute_result"
    }
   ],
   "source": [
    "corpus"
   ]
  },
  {
   "cell_type": "code",
   "execution_count": 50,
   "id": "ba7c4918",
   "metadata": {},
   "outputs": [
    {
     "data": {
      "text/plain": [
       "list"
      ]
     },
     "execution_count": 50,
     "metadata": {},
     "output_type": "execute_result"
    }
   ],
   "source": [
    "type(corpus)"
   ]
  },
  {
   "cell_type": "code",
   "execution_count": 51,
   "id": "4d340003",
   "metadata": {},
   "outputs": [],
   "source": [
    "# 카운트 벡터라이저 생성\n",
    "count_vect = CountVectorizer ()"
   ]
  },
  {
   "cell_type": "code",
   "execution_count": 52,
   "id": "b1435bdd",
   "metadata": {},
   "outputs": [
    {
     "data": {
      "text/plain": [
       "CountVectorizer()"
      ]
     },
     "execution_count": 52,
     "metadata": {},
     "output_type": "execute_result"
    }
   ],
   "source": [
    "# 단어 카운트, corpus 피팅\n",
    "count_vect.fit(corpus)"
   ]
  },
  {
   "cell_type": "code",
   "execution_count": 53,
   "id": "efc18eb2",
   "metadata": {},
   "outputs": [
    {
     "data": {
      "text/plain": [
       "{'청년': 10,\n",
       " '인재': 9,\n",
       " '개발': 0,\n",
       " '양성': 6,\n",
       " '과정': 1,\n",
       " '인공지능': 8,\n",
       " '미래': 5,\n",
       " '데이터': 4,\n",
       " '대한민국': 3,\n",
       " '원유': 7,\n",
       " '기술사': 2}"
      ]
     },
     "execution_count": 53,
     "metadata": {},
     "output_type": "execute_result"
    }
   ],
   "source": [
    "# 단어확인\n",
    "count_vect.vocabulary_"
   ]
  },
  {
   "cell_type": "code",
   "execution_count": 55,
   "id": "676a34e7",
   "metadata": {},
   "outputs": [
    {
     "data": {
      "text/plain": [
       "array([[1, 1, 0, 0, 0, 0, 1, 0, 0, 1, 1],\n",
       "       [0, 0, 0, 0, 0, 0, 1, 0, 1, 0, 1],\n",
       "       [0, 0, 0, 1, 1, 1, 0, 0, 1, 0, 0],\n",
       "       [1, 0, 1, 0, 1, 0, 0, 1, 0, 0, 1]], dtype=int64)"
      ]
     },
     "execution_count": 55,
     "metadata": {},
     "output_type": "execute_result"
    }
   ],
   "source": [
    "# 단어 벡터화한 값을 array 로 변환하여 확인\n",
    "count_vect.transform(corpus).toarray()"
   ]
  },
  {
   "cell_type": "code",
   "execution_count": 68,
   "id": "b44515b4",
   "metadata": {},
   "outputs": [],
   "source": [
    "# 단어 벡터화\n",
    "features = count_vect.transform(corpus)"
   ]
  },
  {
   "cell_type": "code",
   "execution_count": 69,
   "id": "60c8b3bd",
   "metadata": {},
   "outputs": [
    {
     "data": {
      "text/plain": [
       "<4x11 sparse matrix of type '<class 'numpy.int64'>'\n",
       "\twith 17 stored elements in Compressed Sparse Row format>"
      ]
     },
     "execution_count": 69,
     "metadata": {},
     "output_type": "execute_result"
    }
   ],
   "source": [
    "features"
   ]
  },
  {
   "cell_type": "code",
   "execution_count": 70,
   "id": "24e55299",
   "metadata": {},
   "outputs": [
    {
     "name": "stderr",
     "output_type": "stream",
     "text": [
      "C:\\Users\\user\\anaconda3\\lib\\site-packages\\sklearn\\utils\\deprecation.py:87: FutureWarning: Function get_feature_names is deprecated; get_feature_names is deprecated in 1.0 and will be removed in 1.2. Please use get_feature_names_out instead.\n",
      "  warnings.warn(msg, category=FutureWarning)\n"
     ]
    }
   ],
   "source": [
    "# 속성 이름만 반환\n",
    "vocab = count_vect.get_feature_names()"
   ]
  },
  {
   "cell_type": "code",
   "execution_count": 71,
   "id": "d9fe027a",
   "metadata": {},
   "outputs": [
    {
     "data": {
      "text/plain": [
       "['개발', '과정', '기술사', '대한민국', '데이터', '미래', '양성', '원유', '인공지능', '인재', '청년']"
      ]
     },
     "execution_count": 71,
     "metadata": {},
     "output_type": "execute_result"
    }
   ],
   "source": [
    "vocab # 속성 이름만 반환되었다."
   ]
  },
  {
   "cell_type": "code",
   "execution_count": 72,
   "id": "afc1135c",
   "metadata": {},
   "outputs": [
    {
     "data": {
      "text/html": [
       "<div>\n",
       "<style scoped>\n",
       "    .dataframe tbody tr th:only-of-type {\n",
       "        vertical-align: middle;\n",
       "    }\n",
       "\n",
       "    .dataframe tbody tr th {\n",
       "        vertical-align: top;\n",
       "    }\n",
       "\n",
       "    .dataframe thead th {\n",
       "        text-align: right;\n",
       "    }\n",
       "</style>\n",
       "<table border=\"1\" class=\"dataframe\">\n",
       "  <thead>\n",
       "    <tr style=\"text-align: right;\">\n",
       "      <th></th>\n",
       "      <th>개발</th>\n",
       "      <th>과정</th>\n",
       "      <th>기술사</th>\n",
       "      <th>대한민국</th>\n",
       "      <th>데이터</th>\n",
       "      <th>미래</th>\n",
       "      <th>양성</th>\n",
       "      <th>원유</th>\n",
       "      <th>인공지능</th>\n",
       "      <th>인재</th>\n",
       "      <th>청년</th>\n",
       "    </tr>\n",
       "  </thead>\n",
       "  <tbody>\n",
       "    <tr>\n",
       "      <th>0</th>\n",
       "      <td>1</td>\n",
       "      <td>1</td>\n",
       "      <td>0</td>\n",
       "      <td>0</td>\n",
       "      <td>0</td>\n",
       "      <td>0</td>\n",
       "      <td>1</td>\n",
       "      <td>0</td>\n",
       "      <td>0</td>\n",
       "      <td>1</td>\n",
       "      <td>1</td>\n",
       "    </tr>\n",
       "    <tr>\n",
       "      <th>1</th>\n",
       "      <td>0</td>\n",
       "      <td>0</td>\n",
       "      <td>0</td>\n",
       "      <td>0</td>\n",
       "      <td>0</td>\n",
       "      <td>0</td>\n",
       "      <td>1</td>\n",
       "      <td>0</td>\n",
       "      <td>1</td>\n",
       "      <td>0</td>\n",
       "      <td>1</td>\n",
       "    </tr>\n",
       "    <tr>\n",
       "      <th>2</th>\n",
       "      <td>0</td>\n",
       "      <td>0</td>\n",
       "      <td>0</td>\n",
       "      <td>1</td>\n",
       "      <td>1</td>\n",
       "      <td>1</td>\n",
       "      <td>0</td>\n",
       "      <td>0</td>\n",
       "      <td>1</td>\n",
       "      <td>0</td>\n",
       "      <td>0</td>\n",
       "    </tr>\n",
       "    <tr>\n",
       "      <th>3</th>\n",
       "      <td>1</td>\n",
       "      <td>0</td>\n",
       "      <td>1</td>\n",
       "      <td>0</td>\n",
       "      <td>1</td>\n",
       "      <td>0</td>\n",
       "      <td>0</td>\n",
       "      <td>1</td>\n",
       "      <td>0</td>\n",
       "      <td>0</td>\n",
       "      <td>1</td>\n",
       "    </tr>\n",
       "  </tbody>\n",
       "</table>\n",
       "</div>"
      ],
      "text/plain": [
       "   개발  과정  기술사  대한민국  데이터  미래  양성  원유  인공지능  인재  청년\n",
       "0   1   1    0     0    0   0   1   0     0   1   1\n",
       "1   0   0    0     0    0   0   1   0     1   0   1\n",
       "2   0   0    0     1    1   1   0   0     1   0   0\n",
       "3   1   0    1     0    1   0   0   1     0   0   1"
      ]
     },
     "execution_count": 72,
     "metadata": {},
     "output_type": "execute_result"
    }
   ],
   "source": [
    "# 문서단어행렬을 데이터 프레임으로 변환\n",
    "DTM = pd.DataFrame(features.toarray(), columns = vocab_idf).head()\n",
    "DTM"
   ]
  },
  {
   "cell_type": "code",
   "execution_count": 73,
   "id": "4e36c6b2",
   "metadata": {},
   "outputs": [
    {
     "data": {
      "text/plain": [
       "array([[0, 0, 1, 1, 0, 0, 0, 0, 0, 1, 0]], dtype=int64)"
      ]
     },
     "execution_count": 73,
     "metadata": {},
     "output_type": "execute_result"
    }
   ],
   "source": [
    "# 문서 단어 행렬에 일치하는 단어 확인\n",
    "count_vect.transform(['기술사 대한민국 인재 만세']).toarray()"
   ]
  },
  {
   "cell_type": "code",
   "execution_count": null,
   "id": "ee41e9d5",
   "metadata": {},
   "outputs": [],
   "source": [
    "''' TfidVectorizer 함수 : TF-IDF 방ㅅ식으로 단어의 가중치를 조정한 bow 로 인코딩하는 함수'''"
   ]
  },
  {
   "cell_type": "code",
   "execution_count": 75,
   "id": "a3235a64",
   "metadata": {},
   "outputs": [],
   "source": [
    "# 필요 라이브러리 import\n",
    "from sklearn.feature_extraction.text import TfidfVectorizer"
   ]
  },
  {
   "cell_type": "code",
   "execution_count": 76,
   "id": "2bffe82f",
   "metadata": {},
   "outputs": [
    {
     "data": {
      "text/plain": [
       "['청년 인재 개발 양성 과정', ' 인공지능 청년 양성', ' 미래 인공지능  데이터 대한민국', ' 데이터 원유  기술사 청년 개발']"
      ]
     },
     "execution_count": 76,
     "metadata": {},
     "output_type": "execute_result"
    }
   ],
   "source": [
    "corpus"
   ]
  },
  {
   "cell_type": "code",
   "execution_count": 77,
   "id": "c0a77281",
   "metadata": {},
   "outputs": [],
   "source": [
    "# TF-IDF 벡터라이저 생성\n",
    "tfid = TfidfVectorizer()"
   ]
  },
  {
   "cell_type": "code",
   "execution_count": 78,
   "id": "9261683b",
   "metadata": {},
   "outputs": [
    {
     "data": {
      "text/plain": [
       "TfidfVectorizer()"
      ]
     },
     "execution_count": 78,
     "metadata": {},
     "output_type": "execute_result"
    }
   ],
   "source": [
    "# 단어 카운트\n",
    "tfid.fit(corpus)"
   ]
  },
  {
   "cell_type": "code",
   "execution_count": 81,
   "id": "90dcaf4b",
   "metadata": {},
   "outputs": [
    {
     "data": {
      "text/plain": [
       "{'청년': 10,\n",
       " '인재': 9,\n",
       " '개발': 0,\n",
       " '양성': 6,\n",
       " '과정': 1,\n",
       " '인공지능': 8,\n",
       " '미래': 5,\n",
       " '데이터': 4,\n",
       " '대한민국': 3,\n",
       " '원유': 7,\n",
       " '기술사': 2}"
      ]
     },
     "execution_count": 81,
     "metadata": {},
     "output_type": "execute_result"
    }
   ],
   "source": [
    "# 단어사전 확인\n",
    "tfid.vocabulary_"
   ]
  },
  {
   "cell_type": "code",
   "execution_count": 82,
   "id": "3f2a7f44",
   "metadata": {},
   "outputs": [
    {
     "data": {
      "text/plain": [
       "array([[0.41263976, 0.52338122, 0.        , 0.        , 0.        ,\n",
       "        0.        , 0.41263976, 0.        , 0.        , 0.52338122,\n",
       "        0.33406745],\n",
       "       [0.        , 0.        , 0.        , 0.        , 0.        ,\n",
       "        0.        , 0.61366674, 0.        , 0.61366674, 0.        ,\n",
       "        0.49681612],\n",
       "       [0.        , 0.        , 0.        , 0.55528266, 0.43779123,\n",
       "        0.55528266, 0.        , 0.        , 0.43779123, 0.        ,\n",
       "        0.        ],\n",
       "       [0.41263976, 0.        , 0.52338122, 0.        , 0.41263976,\n",
       "        0.        , 0.        , 0.52338122, 0.        , 0.        ,\n",
       "        0.33406745]])"
      ]
     },
     "execution_count": 82,
     "metadata": {},
     "output_type": "execute_result"
    }
   ],
   "source": [
    "# 단어 벡터화한 값을 array로 변환하여 확인\n",
    "tfid.transform(corpus).toarray() # 중요성을 수치화"
   ]
  },
  {
   "cell_type": "code",
   "execution_count": 83,
   "id": "2eb46da6",
   "metadata": {},
   "outputs": [],
   "source": [
    "# 단어 벡터화\n",
    "features_idf = tfid.transform(corpus)"
   ]
  },
  {
   "cell_type": "code",
   "execution_count": 84,
   "id": "0d886e80",
   "metadata": {},
   "outputs": [
    {
     "data": {
      "text/plain": [
       "<4x11 sparse matrix of type '<class 'numpy.float64'>'\n",
       "\twith 17 stored elements in Compressed Sparse Row format>"
      ]
     },
     "execution_count": 84,
     "metadata": {},
     "output_type": "execute_result"
    }
   ],
   "source": [
    "features_idf"
   ]
  },
  {
   "cell_type": "code",
   "execution_count": 85,
   "id": "69d716f0",
   "metadata": {},
   "outputs": [
    {
     "name": "stderr",
     "output_type": "stream",
     "text": [
      "C:\\Users\\user\\anaconda3\\lib\\site-packages\\sklearn\\utils\\deprecation.py:87: FutureWarning: Function get_feature_names is deprecated; get_feature_names is deprecated in 1.0 and will be removed in 1.2. Please use get_feature_names_out instead.\n",
      "  warnings.warn(msg, category=FutureWarning)\n"
     ]
    }
   ],
   "source": [
    "# 속성 이름만 반환\n",
    "vocab_idf = count_vect.get_feature_names()"
   ]
  },
  {
   "cell_type": "code",
   "execution_count": 86,
   "id": "d6d1cdce",
   "metadata": {},
   "outputs": [
    {
     "data": {
      "text/plain": [
       "['개발', '과정', '기술사', '대한민국', '데이터', '미래', '양성', '원유', '인공지능', '인재', '청년']"
      ]
     },
     "execution_count": 86,
     "metadata": {},
     "output_type": "execute_result"
    }
   ],
   "source": [
    "vocab_idf"
   ]
  },
  {
   "cell_type": "code",
   "execution_count": 87,
   "id": "010ff43a",
   "metadata": {},
   "outputs": [
    {
     "data": {
      "text/html": [
       "<div>\n",
       "<style scoped>\n",
       "    .dataframe tbody tr th:only-of-type {\n",
       "        vertical-align: middle;\n",
       "    }\n",
       "\n",
       "    .dataframe tbody tr th {\n",
       "        vertical-align: top;\n",
       "    }\n",
       "\n",
       "    .dataframe thead th {\n",
       "        text-align: right;\n",
       "    }\n",
       "</style>\n",
       "<table border=\"1\" class=\"dataframe\">\n",
       "  <thead>\n",
       "    <tr style=\"text-align: right;\">\n",
       "      <th></th>\n",
       "      <th>개발</th>\n",
       "      <th>과정</th>\n",
       "      <th>기술사</th>\n",
       "      <th>대한민국</th>\n",
       "      <th>데이터</th>\n",
       "      <th>미래</th>\n",
       "      <th>양성</th>\n",
       "      <th>원유</th>\n",
       "      <th>인공지능</th>\n",
       "      <th>인재</th>\n",
       "      <th>청년</th>\n",
       "    </tr>\n",
       "  </thead>\n",
       "  <tbody>\n",
       "    <tr>\n",
       "      <th>0</th>\n",
       "      <td>0.41264</td>\n",
       "      <td>0.523381</td>\n",
       "      <td>0.000000</td>\n",
       "      <td>0.000000</td>\n",
       "      <td>0.000000</td>\n",
       "      <td>0.000000</td>\n",
       "      <td>0.412640</td>\n",
       "      <td>0.000000</td>\n",
       "      <td>0.000000</td>\n",
       "      <td>0.523381</td>\n",
       "      <td>0.334067</td>\n",
       "    </tr>\n",
       "    <tr>\n",
       "      <th>1</th>\n",
       "      <td>0.00000</td>\n",
       "      <td>0.000000</td>\n",
       "      <td>0.000000</td>\n",
       "      <td>0.000000</td>\n",
       "      <td>0.000000</td>\n",
       "      <td>0.000000</td>\n",
       "      <td>0.613667</td>\n",
       "      <td>0.000000</td>\n",
       "      <td>0.613667</td>\n",
       "      <td>0.000000</td>\n",
       "      <td>0.496816</td>\n",
       "    </tr>\n",
       "    <tr>\n",
       "      <th>2</th>\n",
       "      <td>0.00000</td>\n",
       "      <td>0.000000</td>\n",
       "      <td>0.000000</td>\n",
       "      <td>0.555283</td>\n",
       "      <td>0.437791</td>\n",
       "      <td>0.555283</td>\n",
       "      <td>0.000000</td>\n",
       "      <td>0.000000</td>\n",
       "      <td>0.437791</td>\n",
       "      <td>0.000000</td>\n",
       "      <td>0.000000</td>\n",
       "    </tr>\n",
       "    <tr>\n",
       "      <th>3</th>\n",
       "      <td>0.41264</td>\n",
       "      <td>0.000000</td>\n",
       "      <td>0.523381</td>\n",
       "      <td>0.000000</td>\n",
       "      <td>0.412640</td>\n",
       "      <td>0.000000</td>\n",
       "      <td>0.000000</td>\n",
       "      <td>0.523381</td>\n",
       "      <td>0.000000</td>\n",
       "      <td>0.000000</td>\n",
       "      <td>0.334067</td>\n",
       "    </tr>\n",
       "  </tbody>\n",
       "</table>\n",
       "</div>"
      ],
      "text/plain": [
       "        개발        과정       기술사      대한민국       데이터        미래        양성  \\\n",
       "0  0.41264  0.523381  0.000000  0.000000  0.000000  0.000000  0.412640   \n",
       "1  0.00000  0.000000  0.000000  0.000000  0.000000  0.000000  0.613667   \n",
       "2  0.00000  0.000000  0.000000  0.555283  0.437791  0.555283  0.000000   \n",
       "3  0.41264  0.000000  0.523381  0.000000  0.412640  0.000000  0.000000   \n",
       "\n",
       "         원유      인공지능        인재        청년  \n",
       "0  0.000000  0.000000  0.523381  0.334067  \n",
       "1  0.000000  0.613667  0.000000  0.496816  \n",
       "2  0.000000  0.437791  0.000000  0.000000  \n",
       "3  0.523381  0.000000  0.000000  0.334067  "
      ]
     },
     "execution_count": 87,
     "metadata": {},
     "output_type": "execute_result"
    }
   ],
   "source": [
    "# 문서단어행렬(DTM) 을 데이터 프레임으로 변환\n",
    "DTM_idf = pd.DataFrame(features_idf.toarray(), columns = vocab_idf).head()\n",
    "DTM_idf"
   ]
  },
  {
   "cell_type": "code",
   "execution_count": null,
   "id": "738c3f8e",
   "metadata": {},
   "outputs": [],
   "source": []
  }
 ],
 "metadata": {
  "kernelspec": {
   "display_name": "Python 3 (ipykernel)",
   "language": "python",
   "name": "python3"
  },
  "language_info": {
   "codemirror_mode": {
    "name": "ipython",
    "version": 3
   },
   "file_extension": ".py",
   "mimetype": "text/x-python",
   "name": "python",
   "nbconvert_exporter": "python",
   "pygments_lexer": "ipython3",
   "version": "3.9.12"
  }
 },
 "nbformat": 4,
 "nbformat_minor": 5
}
